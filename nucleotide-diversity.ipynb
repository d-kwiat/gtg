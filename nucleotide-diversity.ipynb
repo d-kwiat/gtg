{
 "cells": [
  {
   "cell_type": "markdown",
   "metadata": {},
   "source": [
    "# Nucleotide diversity\n",
    "\n",
    "We define nucleotide diversity ($\\pi$) as the probability that two alleles are heterozygous at a random nucleotide position in the genome.\n",
    "\n",
    "![nucleotide-diversity](nucleotide-diversity.png)\n",
    "\n",
    "where **T** is a random variable representing time to coalescence and $\\mu$ is the single nucleotide substitution rate. From empirical observations we estimate that $\\mu = 1.1 \\times 10^{-8}$ per generation.\n",
    "\n",
    "We evaluate the above expression by using `coalestr` as follows:\n",
    "\n",
    "1. We [create a `Population`](https://d-kwiat.github.io/gtg/population-class.html) by specifying its history of transmission parameters.\n",
    "\n",
    "1. We obtain the probability distribution of **T** by running a Markov chain simulation of time to coalescence [using `get_coalescent`](https://d-kwiat.github.io/gtg/get-coalescent.html).\n",
    "\n",
    "1. We evaluate the above summation series by [running `get_diversity`](https://d-kwiat.github.io/gtg/get-diversity.html)."
   ]
  },
  {
   "cell_type": "code",
   "execution_count": 1,
   "metadata": {
    "collapsed": true
   },
   "outputs": [],
   "source": [
    "!pip install coalestr\n",
    "from coalestr import cs"
   ]
  },
  {
   "cell_type": "code",
   "execution_count": 2,
   "metadata": {
    "collapsed": true
   },
   "outputs": [],
   "source": [
    "def constant_population (duration, N, Q, X):\n",
    "    pop = cs.Population(history = [[duration, N, Q, X, 0]])\n",
    "    pop.get_coalescent()\n",
    "    pop.get_diversity()"
   ]
  },
  {
   "cell_type": "code",
   "execution_count": 3,
   "metadata": {
    "collapsed": true
   },
   "outputs": [],
   "source": [
    "duration = 100000"
   ]
  },
  {
   "cell_type": "code",
   "execution_count": 4,
   "metadata": {},
   "outputs": [
    {
     "name": "stdout",
     "output_type": "stream",
     "text": [
      "Observation time.    Events captured.   Mean coalescence time\n",
      "                      beho      wiho        beho     wiho\n",
      "        0              99.5     100.0     18188.4      1.0\n",
      "Observation time.    SNP heterozygosity.   Haplotype homozygosity at 27.0 kb locus\n",
      "                      beho       wiho           beho       wiho\n",
      "        0           4.00e-04   2.20e-08       4.09e-03   9.87e-01\n"
     ]
    }
   ],
   "source": [
    "constant_population(duration, 18764, 1, 0)"
   ]
  },
  {
   "cell_type": "code",
   "execution_count": 5,
   "metadata": {},
   "outputs": [
    {
     "name": "stdout",
     "output_type": "stream",
     "text": [
      "Observation time.    Events captured.   Mean coalescence time\n",
      "                      beho      wiho        beho     wiho\n",
      "        0              99.5     100.0     18188.8     10.0\n",
      "Observation time.    SNP heterozygosity.   Haplotype homozygosity at 27.0 kb locus\n",
      "                      beho       wiho           beho       wiho\n",
      "        0           4.00e-04   2.20e-07       3.67e-03   8.85e-01\n"
     ]
    }
   ],
   "source": [
    "constant_population(duration, 18754, 10, 0)"
   ]
  },
  {
   "cell_type": "code",
   "execution_count": 6,
   "metadata": {},
   "outputs": [
    {
     "name": "stdout",
     "output_type": "stream",
     "text": [
      "Observation time.    Events captured.   Mean coalescence time\n",
      "                      beho      wiho        beho     wiho\n",
      "        0              99.5      99.8     18180.0   9091.0\n",
      "Observation time.    SNP heterozygosity.   Haplotype homozygosity at 27.0 kb locus\n",
      "                      beho       wiho           beho       wiho\n",
      "        0           4.00e-04   2.00e-04       4.09e-03   4.96e-01\n"
     ]
    }
   ],
   "source": [
    "constant_population(duration, 18754, 1, 0.5)"
   ]
  },
  {
   "cell_type": "code",
   "execution_count": 7,
   "metadata": {},
   "outputs": [
    {
     "name": "stdout",
     "output_type": "stream",
     "text": [
      "Observation time.    Events captured.   Mean coalescence time\n",
      "                      beho      wiho        beho     wiho\n",
      "        0              99.5      99.6     18188.9  14213.0\n",
      "Observation time.    SNP heterozygosity.   Haplotype homozygosity at 27.0 kb locus\n",
      "                      beho       wiho           beho       wiho\n",
      "        0           4.00e-04   3.13e-04       3.99e-03   2.14e-01\n"
     ]
    }
   ],
   "source": [
    "constant_population(duration, 5568, 10, 0.5)"
   ]
  },
  {
   "cell_type": "code",
   "execution_count": 8,
   "metadata": {},
   "outputs": [
    {
     "name": "stdout",
     "output_type": "stream",
     "text": [
      "Observation time.    Events captured.   Mean coalescence time\n",
      "                      beho      wiho        beho     wiho\n",
      "        0              99.5      99.5     18188.4  18189.3\n",
      "Observation time.    SNP heterozygosity.   Haplotype homozygosity at 27.0 kb locus\n",
      "                      beho       wiho           beho       wiho\n",
      "        0           4.00e-04   4.00e-04       4.09e-03   4.04e-03\n"
     ]
    }
   ],
   "source": [
    "constant_population(duration, 18764, 1, 1)"
   ]
  },
  {
   "cell_type": "code",
   "execution_count": 9,
   "metadata": {},
   "outputs": [
    {
     "name": "stdout",
     "output_type": "stream",
     "text": [
      "Observation time.    Events captured.   Mean coalescence time\n",
      "                      beho      wiho        beho     wiho\n",
      "        0              99.5      99.6     18187.4  16687.4\n",
      "Observation time.    SNP heterozygosity.   Haplotype homozygosity at 27.0 kb locus\n",
      "                      beho       wiho           beho       wiho\n",
      "        0           4.00e-04   3.67e-04       4.05e-03   8.44e-02\n"
     ]
    }
   ],
   "source": [
    "constant_population(duration, 3269, 10, 1)"
   ]
  }
 ],
 "metadata": {
  "kernelspec": {
   "display_name": "Python 3 (ipykernel)",
   "language": "python",
   "name": "python3"
  },
  "language_info": {
   "codemirror_mode": {
    "name": "ipython",
    "version": 3
   },
   "file_extension": ".py",
   "mimetype": "text/x-python",
   "name": "python",
   "nbconvert_exporter": "python",
   "pygments_lexer": "ipython3",
   "version": "3.9.13"
  }
 },
 "nbformat": 4,
 "nbformat_minor": 2
}
