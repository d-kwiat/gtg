{
 "cells": [
  {
   "cell_type": "markdown",
   "metadata": {},
   "source": [
    "# Effects of migration\n",
    "\n",
    "The genomic transmission graph can be broken down into many local subpopulations that together make up a metapopulation.  Here we examine a local subpopulation that is embedded within a much larger metapopulation.  \n",
    "\n",
    "$m$ is the probability that a host within the local subpopulation acquired their infection from the metapopulation, and the number of such hosts per generation is $N_m$ = $mN_h$. These could be immigrants from the metapopulation or local residents who have been travelling outside the local area. \n",
    "\n",
    "We must modify our Markov chain simulation of coalescence times to account for migration.  Within `coalestr` this is split this into two components, with one [transmission probability matrix for the subpopulation](https://d-kwiat.github.io/gtg/subpop-matrix.html) and another [transition probability matrix for the metapopulation](https://d-kwiat.github.io/gtg/transition-probability.html).\n",
    "\n",
    "In `coalestr` we can examine the effects of migration within a hierarchical population structure as follows:\n",
    "\n",
    "1. We create a metapopulation and obtain its probability distribution of coalescence times and heterozygosity estimates.\n",
    " * specify a history of transmission parameters for the metapopulation\n",
    " * pass this to `coalestr.Population()` and give the metapopulation a name\n",
    " * run `get_coalescent()` for the metapopulation\n",
    " * run `get_diversity` for the metapopulation\n",
    "\n",
    "\n",
    "2. We create a subpopulation:\n",
    " * specify the history of transmission parameters including the number of migrant hosts per generation, $N_m$.\n",
    " * pass to `coalestr.Population()` both the history of transmission parameters and the name of the metapopulation\n",
    " * run `get_coalescent()` for the subpopulation\n",
    " * run `get_diversity` for the subpopulation\n",
    " \n",
    "$F_{ST}$ is automatically calculated and returned as an attribute of the subpopulation."
   ]
  },
  {
   "cell_type": "code",
   "execution_count": null,
   "metadata": {},
   "outputs": [],
   "source": [
    "!pip install coalestr\n",
    "from coalestr import cs\n",
    "import matplotlib.pyplot as plt"
   ]
  },
  {
   "cell_type": "code",
   "execution_count": 2,
   "metadata": {},
   "outputs": [
    {
     "name": "stdout",
     "output_type": "stream",
     "text": [
      "Observation time.    Events captured.   Mean coalescence time\n",
      "                      beho      wiho        beho     wiho\n",
      "        0              99.7      99.7     16867.3  15476.3\n",
      "Observation time.    SNP heterozygosity.   Haplotype homozygosity at 27.0 kb locus\n",
      "                      beho       wiho           beho       wiho\n",
      "        0           3.71e-04   3.40e-04       4.41e-03   8.47e-02\n"
     ]
    }
   ],
   "source": [
    "# define the metapopulation\n",
    "\n",
    "metapop_history = [[100000, 3000, 10, 1, 0]]\n",
    "metapop = cs.Population(metapop_history)\n",
    "metapop.get_coalescent()\n",
    "metapop.get_diversity()"
   ]
  },
  {
   "cell_type": "code",
   "execution_count": 3,
   "metadata": {},
   "outputs": [
    {
     "name": "stdout",
     "output_type": "stream",
     "text": [
      "For Nm = 0.00: SNP het = 2.42e-06, hap hom = 0.41, Fst = 0.99\n",
      "For Nm = 0.10: SNP het = 1.54e-04, hap hom = 0.32, Fst = 0.59\n",
      "For Nm = 1.00: SNP het = 3.26e-04, hap hom = 0.10, Fst = 0.12\n",
      "For Nm = 10.00: SNP het = 3.67e-04, hap hom = 0.01, Fst = 0.01\n",
      "For Nm = 30.00: SNP het = 3.70e-04, hap hom = 0.01, Fst = 0.00\n"
     ]
    }
   ],
   "source": [
    "# define the subpopulation\n",
    "\n",
    "Nm_list = [0, 0.1, 1, 10, 30]\n",
    "\n",
    "duration = 1000\n",
    "Nh = 30\n",
    "Q = 10\n",
    "X = 0.5\n",
    "\n",
    "for Nm in Nm_list:\n",
    "    subpop_history = [[duration, Nh, Q, X, Nm]]\n",
    "\n",
    "    subpop = cs.Population(subpop_history, metapopulation = metapop)\n",
    "    subpop.get_coalescent(show = False)\n",
    "    subpop.get_diversity(show = False)\n",
    "    beho_snp_het = subpop.diversity[0,1]\n",
    "    beho_hap_hom = subpop.diversity[0,3]\n",
    "    fst = subpop.diversity[0,6]\n",
    "    print(\"For Nm = {0:4.2f}: SNP het = {1:.2e}, hap hom = {2:4.2f}, Fst = {3:4.2f}\".format(\n",
    "        Nm,\n",
    "        beho_snp_het,\n",
    "        beho_hap_hom,\n",
    "        fst))"
   ]
  },
  {
   "cell_type": "code",
   "execution_count": null,
   "metadata": {},
   "outputs": [],
   "source": [
    "# define a set of subpopulations with different values of Nh\n",
    "\n",
    "N_list = [30, 100, 300]\n",
    "Q = 3\n",
    "chi = 0.5\n",
    "duration = 10000\n",
    "\n",
    "iterations = 28\n",
    "\n",
    "fig, ax = plt.subplots(figsize=(7,5))\n",
    "\n",
    "for i in range(len(N_list)):\n",
    "    \n",
    "    Nh = N_list[i]\n",
    "    M_list = []\n",
    "    Fst = []\n",
    "    \n",
    "    for j in range(iterations):\n",
    "    \n",
    "        M = 1.5 ** (-j)\n",
    "        Nm = Nh * M\n",
    "        subpop_history = [[duration, Nh, Q, chi, Nm]]\n",
    "    \n",
    "        subpop = cs.Population(subpop_history, metapopulation = metapop)\n",
    "        subpop.get_coalescent(show = False)\n",
    "        subpop.get_diversity(show = False)\n",
    "    \n",
    "        M_list.append(M)\n",
    "        Fst.append(subpop.diversity[0, 6])\n",
    "        \n",
    "    ax.plot(M_list, Fst, linewidth = 2, label = 'Nh {0:.0f}'.format(Nh))\n",
    "        \n",
    "ax.legend(title = 'chi {0:.2f}, Q {1:.0f}'.format(chi, Q), frameon=True, fontsize=12)\n",
    "ax.set_xlabel(\"M\", fontsize=12)\n",
    "ax.set_ylabel(\"Fst\", fontsize=12)\n",
    "ax.set_xscale('log',base=10)\n",
    "ax.grid(visible=True, which='both', color='0.65', linestyle='-')\n",
    "\n",
    "plt.show()"
   ]
  }
 ],
 "metadata": {
  "kernelspec": {
   "display_name": "Python 3 (ipykernel)",
   "language": "python",
   "name": "python3"
  },
  "language_info": {
   "codemirror_mode": {
    "name": "ipython",
    "version": 3
   },
   "file_extension": ".py",
   "mimetype": "text/x-python",
   "name": "python",
   "nbconvert_exporter": "python",
   "pygments_lexer": "ipython3",
   "version": "3.9.13"
  }
 },
 "nbformat": 4,
 "nbformat_minor": 2
}
