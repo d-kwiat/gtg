{
 "cells": [
  {
   "cell_type": "markdown",
   "metadata": {},
   "source": [
    "# Create a subpopulation\n",
    "\n",
    "`coalestr` allows us to create subpopulations that are embedded within a larger metapopulation, and that receive migration from the metapopulation.  \n",
    "\n",
    "* First we [create the metapopulation](create-metapopulation.ipynb).  To create a global metapopulation that takes account of historical patterns of parasite dispersal, a useful shortcut is [the `coalestr.species()` function](create-metapopulation.ipynb).\n",
    "* When we create the subpopulation we specify its metapopulation.  When we construct the subpopulation's history of transmission parameters, we specify the rate of migration from the metapopulation. \n",
    "* `M` gives the number of hosts per generation that enter the subpopulation from the metapopulation, which must be less than or equal to `N`.\n",
    "\n",
    "We must run `get_coalescent` on the metapopulation before running `get_coalescent` on the subpopulation.  This is because times to coalescence in the metapopulation are needed to calculate times to coalescence in the subpopulation."
   ]
  },
  {
   "cell_type": "code",
   "execution_count": null,
   "metadata": {},
   "outputs": [],
   "source": [
    "!pip install coalestr\n",
    "from coalestr import cs"
   ]
  },
  {
   "cell_type": "code",
   "execution_count": 3,
   "metadata": {},
   "outputs": [
    {
     "name": "stdout",
     "output_type": "stream",
     "text": [
      "Observation time.    Events captured.   Mean coalescence time\n",
      "                      beho      wiho        beho     wiho\n",
      "        0             100.0     100.0     17961.7   6421.2\n"
     ]
    }
   ],
   "source": [
    "''' CREATING THE METAPOPULATION '''\n",
    "\n",
    "# This is done in the same way as creating a simple population, e.g.\n",
    "\n",
    "my_metapop_history = [[20000, 1000, 5, 0.5, 0]]\n",
    "\n",
    "my_metapopulation = cs.Population(my_metapop_history)\n",
    "\n",
    "# A shortcut for creating a global metapopulation is to use coalestr.species\n",
    "\n",
    "my_metapopulation = cs.species()\n",
    "\n",
    "my_metapopulation.get_coalescent()"
   ]
  },
  {
   "cell_type": "code",
   "execution_count": 4,
   "metadata": {},
   "outputs": [
    {
     "name": "stdout",
     "output_type": "stream",
     "text": [
      "Observation time.    Events captured.   Mean coalescence time\n",
      "                      beho      wiho        beho     wiho\n",
      "        0             100.0     100.0     15572.7  13639.6\n"
     ]
    }
   ],
   "source": [
    "''' CREATING THE SUBPOPULATION\n",
    "\n",
    "We specify the history of transmission parameters \n",
    "with the format [duration, N, Q, X, M]\n",
    "where M gives the number of hosts per generation\n",
    "that enter the subpopulation from the metapopulation\n",
    "\n",
    "When we create the subpopulation we use the keyword argument 'metapopulation'\n",
    "to state the name of the metapopulation. '''\n",
    "\n",
    "# In this example M = 1. \n",
    "my_subpop_history = [[1000, 30, 5, 1, 1]]\n",
    "\n",
    "# We state that my_population is the metapopulation.\n",
    "my_subpopulation = cs.Population(my_subpop_history, metapopulation = my_metapopulation)\n",
    "\n",
    "my_subpopulation.get_coalescent()"
   ]
  },
  {
   "cell_type": "markdown",
   "metadata": {},
   "source": [
    "In the above example `M = 1`.  If we change this to `M = 0`, we can immediately see how a small rate of migration from the metapopulation into the subpopulation makes a big difference to the coalescence time in the subpopulation.  "
   ]
  },
  {
   "cell_type": "code",
   "execution_count": 5,
   "metadata": {},
   "outputs": [
    {
     "name": "stdout",
     "output_type": "stream",
     "text": [
      "Observation time.    Events captured.   Mean coalescence time\n",
      "                      beho      wiho        beho     wiho\n",
      "        0             100.0     100.0       100.6     88.3\n"
     ]
    }
   ],
   "source": [
    "my_subpop_history = [[1000, 30, 5, 1, 0]]\n",
    "\n",
    "my_subpopulation = cs.Population(my_subpop_history, metapopulation = my_metapopulation)\n",
    "\n",
    "my_subpopulation.get_coalescent()"
   ]
  }
 ],
 "metadata": {
  "colab": {
   "authorship_tag": "ABX9TyPowKR+rZN/bl9JdV3+UGGK",
   "collapsed_sections": [],
   "include_colab_link": true,
   "name": "211008_coalescence_times.ipynb",
   "provenance": []
  },
  "kernelspec": {
   "display_name": "Python 3 (ipykernel)",
   "language": "python",
   "name": "python3"
  },
  "language_info": {
   "codemirror_mode": {
    "name": "ipython",
    "version": 3
   },
   "file_extension": ".py",
   "mimetype": "text/x-python",
   "name": "python",
   "nbconvert_exporter": "python",
   "pygments_lexer": "ipython3",
   "version": "3.9.13"
  }
 },
 "nbformat": 4,
 "nbformat_minor": 1
}
