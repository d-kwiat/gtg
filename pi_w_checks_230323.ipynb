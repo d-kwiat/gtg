{
 "cells": [
  {
   "cell_type": "markdown",
   "id": "d11209a3",
   "metadata": {},
   "source": [
    "# Within-host $\\pi_W$ sanity checks\n",
    "\n",
    "On this page we perform sanity checks on our [estimates of within-host nucleotide diversity $\\pi_W$ from deep genome sequencing data](https://d-kwiat.github.io/gtg/within-host-pi.html).  We observe that $\\pi_W$ has a strikingly bimodal distribution, with a high-$\\pi_W$ peak and a low-$\\pi_W$ peak.\n",
    "\n",
    "We postulate that the low-$\\pi_W$ peak represents transmission chains where there has been no recent superinfection or cotransmission.  We are particularly interested in this value because we can use it to estimate the quantum of transmission $Q$.\n",
    "\n",
    "We would like to be sure that the low-$\\pi_W$ peak is not an artefact of genotyping errors, which could potentially arise either during genome sequencing or in the subsequent data pipeline.  Ideally we would like to see replicated data but since these are not currently available, here we perform some basic analyses to reassure ourselves that there is no obvious systematic artefact in our low-$\\pi_W$ estimates. \n",
    "\n",
    "#### Source of the data\n",
    "\n",
    "* Data are from the [MalariaGEN Pf6 dataset](https://www.malariagen.net/resource/26) which has data on 6,051,696 variants in 7,113 samples from 30 countries.\n",
    "* We select variants that are high-quality biallelic coding SNPs (n = 502,221). High quality means 'filter_pass == True' & 'vqslod > 3'\n",
    "* We select samples that passed QC (n = 5,970)\n",
    "* We use the data on allele depth for reference and non-reference forms of these biallelic SNPs in individual samples, and from this we calculate within-host heterozygosity for each SNP in each sample.\n",
    "\n",
    "#### We will use these files\n",
    "\n",
    "`wiho_het.npy`\n",
    "* Gives within-host heterozygosity for each SNP (n = 502,221) in each sample (n = 5,970).  \n",
    "* As we have selected biallelic SNPs this is easy to calculate from allele depth data.\n",
    "* Filename: `230318_wiho_het.npy`\n",
    "* This is a large file - 11.7GB\n",
    "\n",
    "`region`\n",
    "* A list of geographical regions for 5,970 selected samples\n",
    "* 'SAM'=South America, 'WAF'=West Africa, 'CAF'=Central Africa, 'EAF'=East African, 'SAS'=South Asia, 'WSEA'=Western SE Asia, 'ESEA'=Eastern SE Asia, 'OCE'=Oceania\n",
    "* Filename: `230316_region`\n",
    "\n",
    "`het_per_snp`\n",
    "* Mean within-host heterozygosity for each SNP, calculated from `wiho_het.npy`\n",
    "* Filename: `230317_het_per_snp`\n",
    "\n",
    "`het_per_sample`\n",
    "* Mean within-host heterozygosity for each sample after filtering by SNP heterozygosity (typically <0.02) and by geographical region.\n",
    "* Filenames:\n",
    "  * All regions (5970 samples): `230317_het_per_sample_ALL`\n",
    "  * Southeast Asia: `230316_het_per_sample_SEA`\n",
    "  * Africa (3314 samples): `230317_het_per_sample_Africa`\n",
    "  \n",
    "`allele_depth_2.npy`\n",
    "* dimension 0 = SNPs (n = 512,220) \n",
    "* dimension 1 = samples (n = 5,970)\n",
    "* dimension 2 = read depth for ref allele [0] and alt allele [1]\n",
    "* note that these are all biallelic coding SNPs\n",
    "* Filename: `221221_selected_gt_2.npy`"
   ]
  },
  {
   "cell_type": "code",
   "execution_count": 1,
   "id": "f93ca472",
   "metadata": {},
   "outputs": [],
   "source": [
    "# FOR RUNNING ON COLAB\n",
    "\n",
    "#from google.colab import drive\n",
    "\n",
    "#drive.mount('/content/drive')\n",
    "\n",
    "#data_path = \"/content/drive/My Drive/Colab Data/Pf6/\""
   ]
  },
  {
   "cell_type": "code",
   "execution_count": 2,
   "id": "41808b5a",
   "metadata": {},
   "outputs": [],
   "source": [
    "# FOR RUNNING ON COLAB\n",
    "\n",
    "#import numpy as np\n",
    "#import json\n",
    "#import math\n",
    "#import matplotlib.pyplot as plt\n",
    "#import statistics as stat"
   ]
  },
  {
   "cell_type": "code",
   "execution_count": 3,
   "id": "859361f0",
   "metadata": {},
   "outputs": [],
   "source": [
    "# FOR RUNNING LOCALLY\n",
    "\n",
    "data_path = 'G:\\\\My Drive\\\\Colab Data\\\\Pf6\\\\'\n",
    "\n",
    "import numpy as np\n",
    "import json\n",
    "import math\n",
    "import matplotlib.pyplot as plt\n",
    "import statistics as stat"
   ]
  },
  {
   "cell_type": "code",
   "execution_count": 4,
   "id": "e698a611",
   "metadata": {},
   "outputs": [
    {
     "data": {
      "image/png": "[encoded data removed]",
      "text/plain": [
       "<Figure size 640x480 with 1 Axes>"
      ]
     },
     "metadata": {},
     "output_type": "display_data"
    }
   ],
   "source": [
    "# All regions - only SNPs with het < 0.02\n",
    "\n",
    "with open(data_path + \"230317_het_per_sample_ALL\", \"r\") as filepath:\n",
    "    het_per_sample = json.load(filepath)\n",
    "    \n",
    "het_per_sample_nonzero = [x for x in het_per_sample if x != 0]\n",
    "log_het_per_sample = [math.log(x, 10) for x in het_per_sample_nonzero]\n",
    "plt.hist(log_het_per_sample, bins = 100)\n",
    "plt.xlabel('Het per sample')\n",
    "plt.ylabel('Number of samples')\n",
    "plt.grid()\n",
    "plt.show()\n"
   ]
  },
  {
   "cell_type": "code",
   "execution_count": 5,
   "id": "f8afd703",
   "metadata": {},
   "outputs": [],
   "source": [
    "wiho_het = np.load(data_path + '230318_wiho_het.npy', mmap_mode = 'r')\n",
    "snp_count = wiho_het.shape[0]\n",
    "sample_count = wiho_het.shape[1]\n",
    "\n",
    "sample_het = np.array(het_per_sample)\n",
    "\n",
    "lo_het = sample_het < 3e-5\n",
    "hi_het = sample_het > 3e-4\n",
    "med_het = (sample_het >= 3e-5) & (sample_het <= 3e-4)"
   ]
  },
  {
   "cell_type": "code",
   "execution_count": 6,
   "id": "d09ea154",
   "metadata": {},
   "outputs": [
    {
     "name": "stdout",
     "output_type": "stream",
     "text": [
      "Mean allele depth is 75.7 in low het samples and 80.3 in high het samples\n"
     ]
    }
   ],
   "source": [
    "allele_depth = np.load(data_path + '221221_selected_gt_2.npy', mmap_mode = 'r')\n",
    "allele_depth_lo = []\n",
    "allele_depth_hi = []\n",
    "\n",
    "for i in range(sample_count):\n",
    "    \n",
    "    if lo_het[i] == True:\n",
    "    \n",
    "        depth = np.mean(allele_depth[:, i, 0]) + np.mean(allele_depth[:, i, 1])\n",
    "\n",
    "        allele_depth_lo.append(depth)\n",
    "\n",
    "    if hi_het[i] == True:\n",
    "    \n",
    "        depth = np.mean(allele_depth[:, i, 0]) + np.mean(allele_depth[:, i, 1])\n",
    "\n",
    "        allele_depth_hi.append(depth)\n",
    "        \n",
    "mean_depth_lo = stat.mean(allele_depth_lo)\n",
    "\n",
    "mean_depth_hi = stat.mean(allele_depth_hi)\n",
    "\n",
    "print(\"Mean allele depth is {0:4.1f} in low het samples and \\\n",
    "{1:4.1f} in high het samples\".format(mean_depth_lo, mean_depth_hi))"
   ]
  },
  {
   "cell_type": "code",
   "execution_count": 7,
   "id": "a683112e",
   "metadata": {},
   "outputs": [
    {
     "name": "stdout",
     "output_type": "stream",
     "text": [
      "The mean number of heterozygous SNPs in a low-het sample is 412.4\n"
     ]
    },
    {
     "data": {
      "image/png": "[encoded data removed]",
      "text/plain": [
       "<Figure size 640x480 with 1 Axes>"
      ]
     },
     "metadata": {},
     "output_type": "display_data"
    }
   ],
   "source": [
    "variants = []\n",
    "\n",
    "for i in range(sample_count):\n",
    "    \n",
    "    if lo_het[i] == True:\n",
    "        \n",
    "        x = np.count_nonzero(wiho_het[: , i])\n",
    "        \n",
    "        variants.append(x)\n",
    "        \n",
    "mean_variants = stat.mean(variants)\n",
    "\n",
    "print(\"The mean number of heterozygous SNPs in a low-het sample is {0:5.1f}\".format(mean_variants))\n",
    "\n",
    "log_variants = [math.log(x, 10) for x in variants]\n",
    "plt.hist(log_variants, bins = 100)\n",
    "plt.xlabel('Number of variants')\n",
    "plt.ylabel('Number of samples')\n",
    "plt.grid()\n",
    "plt.show()"
   ]
  },
  {
   "cell_type": "code",
   "execution_count": 9,
   "id": "c59a5c89",
   "metadata": {},
   "outputs": [
    {
     "name": "stdout",
     "output_type": "stream",
     "text": [
      "The mean number of minor allele reads in a low het sample is 1684\n"
     ]
    }
   ],
   "source": [
    "minor_alleles = []\n",
    "\n",
    "for i in range(50):\n",
    "    \n",
    "    alleles = []\n",
    "\n",
    "    if lo_het[i] == True:\n",
    "        \n",
    "        for j in range(snp_count):\n",
    "        \n",
    "            x = allele_depth[j, i, 0]\n",
    "            \n",
    "            y = allele_depth[j, i, 1]\n",
    "            \n",
    "            z = min(x, y)\n",
    "        \n",
    "            if z != 0:\n",
    "                \n",
    "                alleles.append(z)\n",
    "                \n",
    "        minor_alleles.append(sum(alleles))\n",
    "        \n",
    "mean_minor_alleles = stat.mean(minor_alleles)\n",
    "\n",
    "print(\"The mean number of minor allele reads in a low het \\\n",
    "sample is\", str(mean_minor_alleles))"
   ]
  },
  {
   "cell_type": "markdown",
   "id": "ac743dc7",
   "metadata": {},
   "source": [
    "#### Understanding the difference between high het and low het samples\n",
    "\n",
    "Look at SNPs that are present in both high and low het samples \n",
    "* What is their heterozygosity in low het samples vs high het samples?\n",
    "\n",
    "How does this compare with heterozygosity of SNPs that are found only in low het samples?"
   ]
  },
  {
   "cell_type": "code",
   "execution_count": null,
   "id": "c5fed1cc",
   "metadata": {},
   "outputs": [],
   "source": [
    "# SNPs in both high and low het samples\n",
    "#    what is their het in low het samples\n",
    "#    what is their het in high het samples\n",
    "\n",
    "snp_both_lo = []\n",
    "snp_both_hi = []\n",
    "snp_only_lo = []\n",
    "\n",
    "for i in range(snp_count):\n",
    "    \n",
    "    if np.any(wiho_het[i, :][lo_het]) and np.any(wiho_het[i, :][hi_het]):\n",
    "        \n",
    "        mean_snp_het = stat.mean(wiho_het[i, :][lo_het]) \n",
    "        snp_both_lo.append(mean_snp_het)\n",
    "        \n",
    "        mean_snp_het = stat.mean(wiho_het[i, :][hi_het]) \n",
    "        snp_both_hi.append(mean_snp_het)\n",
    "        \n",
    "    if np.any(wiho_het[i, :][lo_het]) and not np.any(wiho_het[i, :][hi_het]):\n",
    "        \n",
    "        mean_snp_het = stat.mean(wiho_het[i, :][lo_het]) \n",
    "        snp_only_lo.append(mean_snp_het)"
   ]
  },
  {
   "cell_type": "code",
   "execution_count": null,
   "id": "81298a01",
   "metadata": {},
   "outputs": [],
   "source": [
    "# SNPs present in low not high het samples\n",
    "# looking at their het in low het samples\n",
    "log_het_per_snp = [math.log(x, 10) for x in snp_only_lo]\n",
    "plt.hist(log_het_per_snp, bins = 100)\n",
    "plt.xlabel('Mean SNP het')\n",
    "plt.ylabel('Number of SNPs')\n",
    "plt.grid()\n",
    "plt.show()"
   ]
  },
  {
   "cell_type": "code",
   "execution_count": null,
   "id": "0337f821",
   "metadata": {},
   "outputs": [],
   "source": [
    "# SNPs present in both high and low het samples\n",
    "# looking at their het in low het samples\n",
    "log_het_per_snp = [math.log(x, 10) for x in snp_both_lo]\n",
    "plt.hist(log_het_per_snp, bins = 100)\n",
    "plt.xlabel('Mean SNP het')\n",
    "plt.ylabel('Number of SNPs')\n",
    "plt.grid()\n",
    "plt.show()"
   ]
  },
  {
   "cell_type": "code",
   "execution_count": null,
   "id": "3b06703b",
   "metadata": {},
   "outputs": [],
   "source": [
    "# SNPs present in both high and low het samples\n",
    "# looking at their het in high het samples\n",
    "log_het_per_snp = [math.log(x, 10) for x in snp_both_hi]\n",
    "plt.hist(log_het_per_snp, bins = 100)\n",
    "plt.xlabel('Mean SNP het')\n",
    "plt.ylabel('Number of SNPs')\n",
    "plt.grid()\n",
    "plt.show()"
   ]
  },
  {
   "cell_type": "code",
   "execution_count": null,
   "id": "6cdf45ad",
   "metadata": {},
   "outputs": [],
   "source": [
    "maf = []\n",
    "\n",
    "for i in range(10):\n",
    "\n",
    "    if lo_het[i] == True:\n",
    "    \n",
    "        for j in range(snp_count):\n",
    "        \n",
    "            x = allele_depth_2[j, i, 0]\n",
    "            \n",
    "            y = allele_depth_2[j, i, 1]\n",
    "            \n",
    "            z = min(x, y)\n",
    "            \n",
    "            if z > 0:\n",
    "    \n",
    "                a = x + y\n",
    "    \n",
    "                if a != 0:\n",
    "        \n",
    "                    b = z/a\n",
    "    \n",
    "                    maf.append(b)\n",
    "        \n",
    "plt.hist(maf, bins = 100)\n",
    "plt.xlabel('Minor allele frequency')\n",
    "plt.ylabel('Number of SNPs')\n",
    "plt.grid()\n",
    "plt.show()"
   ]
  }
 ],
 "metadata": {
  "kernelspec": {
   "display_name": "Python 3 (ipykernel)",
   "language": "python",
   "name": "python3"
  },
  "language_info": {
   "codemirror_mode": {
    "name": "ipython",
    "version": 3
   },
   "file_extension": ".py",
   "mimetype": "text/x-python",
   "name": "python",
   "nbconvert_exporter": "python",
   "pygments_lexer": "ipython3",
   "version": "3.9.13"
  }
 },
 "nbformat": 4,
 "nbformat_minor": 5
}
