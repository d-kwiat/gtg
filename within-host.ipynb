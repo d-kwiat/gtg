{
 "cells": [
  {
   "cell_type": "markdown",
   "metadata": {},
   "source": [
    "# Within-host diversity\n",
    "\n",
    "Within-host diversity of the parasite population is determined by a number of different factors.\n",
    "\n",
    "*Superinfection* gives rise to the phenomenon known as 'multiclonal infection' or 'mixed infection'. In the case of malaria, there are various empirical methods to estimate the number of distinct clones that are present within an infected individual, a quantity which is generally known as the complexity of infection (COI).\n",
    "\n",
    "A multiclonal infection may propagate along a transmission chain for several generations subsequent to an episode of superinfection - this is known as *cotransmission*.  Cotransmission is more likely to continue over multiple generations if the quantum of transmission $Q$ is large, and it will not occur if $Q=1$.  \n",
    "\n",
    "*Mutation* and *recombination* also contribute to within-host diversity, but at a much lower level than superinfection and cotransmission.  A     literature it is often quaoften arises due to superinfection, cotransmission, mutation and recombination. \n",
    "\n",
    "* Superinfection is generally\n",
    "\n",
    "\n",
    "\n",
    "Provide links to:\n",
    "\n",
    "* [The relationship between $\\widehat{H}_W$ and $H_S$](https://d-kwiat.github.io/gtg/hw-hs.html).\n",
    "* [The relationship between $F_{WS}$ and the parameters $\\chi$ and $Q$](https://d-kwiat.github.io/gtg/fws-compare-methods.html).\n"
   ]
  }
 ],
 "metadata": {
  "kernelspec": {
   "display_name": "Python 3",
   "language": "python",
   "name": "python3"
  },
  "language_info": {
   "codemirror_mode": {
    "name": "ipython",
    "version": 3
   },
   "file_extension": ".py",
   "mimetype": "text/x-python",
   "name": "python",
   "nbconvert_exporter": "python",
   "pygments_lexer": "ipython3",
   "version": "3.8.3"
  }
 },
 "nbformat": 4,
 "nbformat_minor": 4
}
