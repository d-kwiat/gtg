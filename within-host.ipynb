{
 "cells": [
  {
   "cell_type": "markdown",
   "metadata": {},
   "source": [
    "# Within-host variation\n",
    "\n",
    "Within-host variation arises due to superinfection, cotransmission, mutation and recombination. \n",
    "\n",
    "* Superinfection is generally\n",
    "\n",
    "\n",
    "\n",
    "Provide links to:\n",
    "\n",
    "* [The relationship between $\\widehat{H}_W$ and $H_S$](https://d-kwiat.github.io/gtg/hw-hs.html).\n",
    "* [The relationship between $F_{WS}$ and the parameters $\\chi$ and $Q$](https://d-kwiat.github.io/gtg/fws-compare-methods.html).\n"
   ]
  }
 ],
 "metadata": {
  "kernelspec": {
   "display_name": "Python 3",
   "language": "python",
   "name": "python3"
  },
  "language_info": {
   "codemirror_mode": {
    "name": "ipython",
    "version": 3
   },
   "file_extension": ".py",
   "mimetype": "text/x-python",
   "name": "python",
   "nbconvert_exporter": "python",
   "pygments_lexer": "ipython3",
   "version": "3.8.3"
  }
 },
 "nbformat": 4,
 "nbformat_minor": 4
}
