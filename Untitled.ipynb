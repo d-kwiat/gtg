{
 "cells": [
  {
   "cell_type": "code",
   "execution_count": 1,
   "id": "76e8269b",
   "metadata": {},
   "outputs": [],
   "source": [
    "data_path = 'C:\\\\Users\\\\dkwia\\\\Data\\\\Pf6\\\\'"
   ]
  },
  {
   "cell_type": "code",
   "execution_count": 2,
   "id": "dcb38c1b",
   "metadata": {},
   "outputs": [],
   "source": [
    "import numpy as np"
   ]
  },
  {
   "cell_type": "code",
   "execution_count": 3,
   "id": "2b3d8457",
   "metadata": {},
   "outputs": [],
   "source": [
    "wiho_het = np.load(data_path + '230113_wiho_het.npy', mmap_mode = 'r')"
   ]
  },
  {
   "cell_type": "code",
   "execution_count": 8,
   "id": "9b4feb9c",
   "metadata": {},
   "outputs": [
    {
     "data": {
      "text/plain": [
       "dtype('float64')"
      ]
     },
     "execution_count": 8,
     "metadata": {},
     "output_type": "execute_result"
    }
   ],
   "source": [
    "wiho_het.dtype"
   ]
  },
  {
   "cell_type": "code",
   "execution_count": 10,
   "id": "84c14fee",
   "metadata": {},
   "outputs": [],
   "source": [
    "wiho_het = np.float32(wiho_het)"
   ]
  },
  {
   "cell_type": "code",
   "execution_count": 11,
   "id": "519842a3",
   "metadata": {},
   "outputs": [
    {
     "data": {
      "text/plain": [
       "dtype('float32')"
      ]
     },
     "execution_count": 11,
     "metadata": {},
     "output_type": "execute_result"
    }
   ],
   "source": [
    "wiho_het.dtype"
   ]
  },
  {
   "cell_type": "code",
   "execution_count": 12,
   "id": "f2e255ae",
   "metadata": {},
   "outputs": [],
   "source": [
    "np.save(data_path + '230318_wiho_het.npy', wiho_het)"
   ]
  },
  {
   "cell_type": "code",
   "execution_count": 14,
   "id": "1d06b630",
   "metadata": {},
   "outputs": [
    {
     "data": {
      "text/plain": [
       "array([[1., 1., 1.],\n",
       "       [1., 1., 1.]])"
      ]
     },
     "execution_count": 14,
     "metadata": {},
     "output_type": "execute_result"
    }
   ],
   "source": [
    "np.ones((2, 3))"
   ]
  }
 ],
 "metadata": {
  "kernelspec": {
   "display_name": "Python 3 (ipykernel)",
   "language": "python",
   "name": "python3"
  },
  "language_info": {
   "codemirror_mode": {
    "name": "ipython",
    "version": 3
   },
   "file_extension": ".py",
   "mimetype": "text/x-python",
   "name": "python",
   "nbconvert_exporter": "python",
   "pygments_lexer": "ipython3",
   "version": "3.9.13"
  }
 },
 "nbformat": 4,
 "nbformat_minor": 5
}
