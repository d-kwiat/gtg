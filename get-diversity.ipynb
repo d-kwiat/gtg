{
 "cells": [
  {
   "cell_type": "markdown",
   "metadata": {},
   "source": [
    "# Running `get_diversity`\n",
    "\n",
    "Once we have [created a population by specifying its transmission history](create-population.ipynb) and performed a [Markov chain simulation of coalescence times](coalescence-time-basic.ipynb) using `get_coalescent`, we can estimate levels of nucleotide diversity and haplotype homozygosity using `get_diversity`."
   ]
  },
  {
   "cell_type": "code",
   "execution_count": null,
   "metadata": {},
   "outputs": [],
   "source": [
    "!pip install coalestr\n",
    "from coalestr import cs"
   ]
  },
  {
   "cell_type": "code",
   "execution_count": 19,
   "metadata": {},
   "outputs": [],
   "source": [
    "import coalestr as cs"
   ]
  },
  {
   "cell_type": "code",
   "execution_count": 20,
   "metadata": {},
   "outputs": [
    {
     "name": "stdout",
     "output_type": "stream",
     "text": [
      "Observation time.    Events captured.   Mean coalescence time\n",
      "                      beho      wiho        beho     wiho\n",
      "        0             100.0     100.0        25.1     18.9\n"
     ]
    }
   ],
   "source": [
    "# Specify the transmission history of a population\n",
    "# Each inner list gives [duration, N, Q, X, M] for a period of history\n",
    "my_history = [[1000, 30, 10, 0, 0], [1000, 10, 5, 0.5, 0]]\n",
    "\n",
    "# Create the population\n",
    "my_population = cs.Population(my_history)\n",
    "\n",
    "# Obtain coalescence times\n",
    "my_population.get_coalescent()"
   ]
  },
  {
   "cell_type": "code",
   "execution_count": 21,
   "metadata": {},
   "outputs": [
    {
     "name": "stdout",
     "output_type": "stream",
     "text": [
      "Observation time.  Nucleotide diversity     Haplotype homozygosity\n",
      "                      beho       wiho           beho       wiho\n",
      "        0           5.52e-07   4.16e-07       7.52e-01   8.12e-01\n"
     ]
    }
   ],
   "source": [
    "# Once we have run get_coalescent we can run get_diversity\n",
    "my_population.get_diversity()"
   ]
  },
  {
   "cell_type": "markdown",
   "metadata": {},
   "source": [
    "beho means a between-host sample and wiho means a within-host sample.\n",
    "\n",
    "This tells us that the local parasite population has nucleotide diversity of 5.52 x 10^-7 and haplotype homozygosity of 0.752.\n",
    "\n",
    "The mean within-host nucleotide diversity is 4.16 x 10^-7 and the mean within-host haplotype homozygosity is 0.812.\n",
    "\n",
    "**Haplotype homozygosity** by default refers to a locus spanning 2 centimorgans. In the *Plasmodium falciparum* genome, one centimorgan is approximately 13.5kb, so this is equivalent to a 27kb haplotype locus.  We can alter these values as shown below."
   ]
  },
  {
   "cell_type": "code",
   "execution_count": 22,
   "metadata": {},
   "outputs": [
    {
     "data": {
      "text/plain": [
       "27"
      ]
     },
     "execution_count": 22,
     "metadata": {},
     "output_type": "execute_result"
    }
   ],
   "source": [
    "# Check the current length of a haplotype locus in kilobases\n",
    "my_population.locus_kb"
   ]
  },
  {
   "cell_type": "code",
   "execution_count": 23,
   "metadata": {},
   "outputs": [
    {
     "name": "stdout",
     "output_type": "stream",
     "text": [
      "Observation time.  Nucleotide diversity     Haplotype homozygosity\n",
      "                      beho       wiho           beho       wiho\n",
      "        0           5.52e-07   4.16e-07       3.57e-01   4.97e-01\n"
     ]
    }
   ],
   "source": [
    "# Change the length of a haplotype locus to 135kb (~10 centimorgans)\n",
    "my_population.locus_kb = 135\n",
    "\n",
    "# Re-estimate haplotype homozygosity for this larger locus\n",
    "my_population.get_diversity()"
   ]
  },
  {
   "cell_type": "code",
   "execution_count": 24,
   "metadata": {},
   "outputs": [
    {
     "name": "stdout",
     "output_type": "stream",
     "text": [
      "Observation time.  Nucleotide diversity     Haplotype homozygosity\n",
      "                      beho       wiho           beho       wiho\n",
      "     1500           8.58e-07   2.20e-07       6.45e-01   8.85e-01\n",
      "     1000           8.58e-07   2.20e-07       7.17e-01   9.13e-01\n",
      "      500           5.52e-07   4.16e-07       8.25e-01   8.68e-01\n",
      "        0           5.52e-07   4.16e-07       7.94e-01   8.44e-01\n"
     ]
    }
   ],
   "source": [
    "# If we specify multiple observation times for get_coalescent\n",
    "# .. these are automatically passed to get_diversity\n",
    "\n",
    "my_observations = [0, 500, 1000, 1500]\n",
    "\n",
    "my_population.locus_kb = 27\n",
    "\n",
    "my_population.get_coalescent(observe = my_observations, show = False)\n",
    "\n",
    "my_population.get_diversity()"
   ]
  },
  {
   "cell_type": "markdown",
   "metadata": {},
   "source": [
    "This simulation with multiple observation times gives the haplotype homozygosity of a 27kb locus as 0.794 (between-host) and 0.844 (within-host) at observation time 0.  This is slightly different from the values obtained earlier (0.752 and 0.812) when we ran the same simulation with a single observation time.\n",
    "\n",
    "The reason for this discrepancy is variation in the effective recombination parameter $\\phi_t$. $\\phi_t$ is determined by haplotype heterozygosity and thus can vary during the course of a simulation.  At the outset of a simulation we do not know haplotype heterozygosity and so we make an initial guess at $\\phi_t$ - this is the population attribute `phi_seed` with a default value of 0.2.\n",
    "\n",
    "When we make multiple observations, `get_diversity` estimates the level of haplotype heterozygosity at each observation timepoint and adjusts the value of $\\phi_t$ accordingly. This means that our estimate of haplotype homozygosity at any given timepoint becomes increasingly accurate if we make multiple observations prior to that timepoint."
   ]
  },
  {
   "cell_type": "markdown",
   "metadata": {},
   "source": [
    "# Data objects\n",
    "\n",
    "`get_diversity` produces an array called `diversity` that gives nucleotide diversity, haplotype homozygosity and the inbreeding coefficient $F_{WS}$ for different observation times.  If this is a subpopulation embedded within a larger metapopulation, it also gives the population structure metric $F_{ST}$.  \n",
    "\n",
    "`diversity` is used for internal calculations and to generate figures and reports. For most purposes it can be ignored but the data can if necessary be retrieved as population attributes.The array is structured like this:\n",
    "\n",
    "* axis 0: `observation time[i]`\n",
    "* axis 1: measures of diversity at different observation times\n",
    "     * 0: observation time\n",
    "     * 1: between-host nucleotide diversity\n",
    "     * 2: within-host nucleotide diversity\n",
    "     * 3: between-host haplotype homozygosity\n",
    "     * 4: within-host haplotype homozygosity\n",
    "     * 5: Fws\n",
    "     * 6: Fst (if this is a subpopulation)"
   ]
  },
  {
   "cell_type": "code",
   "execution_count": 36,
   "metadata": {},
   "outputs": [
    {
     "name": "stdout",
     "output_type": "stream",
     "text": [
      "Mean levels of genetic diversity in a within-host sample:\n",
      "  Obs time 0: nucleotide diversity 4.16e-07, haplotype homozygosity 0.84, Fws 0.25\n",
      "  Obs time 500: nucleotide diversity 4.16e-07, haplotype homozygosity 0.87, Fws 0.25\n",
      "  Obs time 1000: nucleotide diversity 2.20e-07, haplotype homozygosity 0.91, Fws 0.74\n",
      "  Obs time 1500: nucleotide diversity 2.20e-07, haplotype homozygosity 0.89, Fws 0.74\n"
     ]
    }
   ],
   "source": [
    "# Example of accessing the diversity array\n",
    "\n",
    "print(\"Mean levels of genetic diversity in a within-host sample:\")\n",
    "\n",
    "for i in range(len(my_population.observation_times)):\n",
    "    \n",
    "    print(\"  Obs time {0:1.0f}: nucleotide diversity {1:.2e}, haplotype homozygosity {2:.2f}, Fws {3:.2f}\"\n",
    "        .format(\n",
    "        my_population.diversity[i, 0],\n",
    "        my_population.diversity[i, 2],\n",
    "        my_population.diversity[i, 4],\n",
    "        my_population.diversity[i, 5]))"
   ]
  }
 ],
 "metadata": {
  "kernelspec": {
   "display_name": "Python 3 (ipykernel)",
   "language": "python",
   "name": "python3"
  },
  "language_info": {
   "codemirror_mode": {
    "name": "ipython",
    "version": 3
   },
   "file_extension": ".py",
   "mimetype": "text/x-python",
   "name": "python",
   "nbconvert_exporter": "python",
   "pygments_lexer": "ipython3",
   "version": "3.9.13"
  }
 },
 "nbformat": 4,
 "nbformat_minor": 2
}
