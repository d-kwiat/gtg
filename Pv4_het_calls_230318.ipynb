{
 "cells": [
  {
   "cell_type": "markdown",
   "id": "d11209a3",
   "metadata": {},
   "source": [
    "## Pv4 heterozygous calls\n",
    "\n",
    "My Drive/GitHub/gtg/Pf4_het_calls_230318.ipynb\n",
    "\n",
    "This code examines the frequency distribution of heterozgous genotype calls in the [Pv4 dataset](https://www.malariagen.net/sites/default/files/File8_Pf_6_README_20191010_0.txt).  It uses downloaded Zarr data and sample metadata that are stored on Google Drive\\My Drive\\Colab Data\\Pv4\\. \n",
    "\n",
    "* extract lists of samples (n = 1,895) and variant properties (n = 4,571,056) as arrays\n",
    "\n",
    "* select variants that are high-quality biallelic coding SNPs (n = 429,612)\n",
    "\n",
    "* extract allele depth for high-quality SNPs from Zarr into `allele_depth_1.npy`.  We do this in chunks of 10,000 variants at a time to avoid memory problems\n",
    "\n",
    "* extract sample metadata from samples.txt into a dataframe\n",
    "\n",
    "* read info about sample QC into an array\n",
    "\n",
    "* extract allele depth for high-quality SNPs and high-quality samples (n = 1,072) into `allele_depth_2.npy` \n",
    "\n",
    "* calculate within-host heterozygosity for each SNP in each sample and save to `wiho_het.npy`\n",
    "\n",
    "* calculate mean within-host heterozygosity for each SNP across all samples and save to a list called wiho_het_per_snp\n",
    "\n",
    "* using wiho_het_per_snp, create `snp_filter` to filter out potential hyperhet SNPs\n",
    "\n",
    "* create `sample_filter` to select samples from a particular geographical region\n",
    "\n",
    "* calculate $\\pi_W$ for each sample, using mean within-host heterozygosity per sample, and allowing for the number of SNPs ascertained and the size of coding regions\n",
    "\n",
    "* plot a histogram of nucleotide diversity per sample\n",
    "\n",
    "* view the histogram for different filter cutoffs for hyperhet SNPs and for different regions e.g. West Africa vs Southeast Asia"
   ]
  },
  {
   "cell_type": "code",
   "execution_count": null,
   "id": "f93ca472",
   "metadata": {},
   "outputs": [],
   "source": [
    "from google.colab import drive\n",
    "\n",
    "drive.mount('/content/drive')\n",
    "\n",
    "data_path = \"/content/drive/My Drive/Colab Data/Pv4/\""
   ]
  },
  {
   "cell_type": "code",
   "execution_count": 1,
   "id": "41808b5a",
   "metadata": {},
   "outputs": [],
   "source": [
    "!pip install zarr\n",
    "\n",
    "import zarr\n",
    "import numcodecs\n",
    "import numpy as np\n",
    "import pandas as pd\n",
    "import json\n",
    "import math\n",
    "import time\n",
    "import matplotlib.pyplot as plt\n",
    "import statistics as stat"
   ]
  },
  {
   "cell_type": "code",
   "execution_count": 14,
   "id": "f9407dc5",
   "metadata": {},
   "outputs": [
    {
     "data": {
      "application/vnd.jupyter.widget-view+json": {
       "model_id": "9f52de55022f4a108612dcfc7df6d9ad",
       "version_major": 2,
       "version_minor": 0
      },
      "text/plain": [
       "Tree(nodes=(Node(disabled=True, name='/', nodes=(Node(disabled=True, name='calldata', nodes=(Node(disabled=Tru…"
      ]
     },
     "metadata": {},
     "output_type": "display_data"
    }
   ],
   "source": [
    "callset = zarr.open_group(data_path + 'Pv_4.zarr', mode = 'r')\n",
    "# callset.tree()"
   ]
  },
  {
   "cell_type": "markdown",
   "id": "793015b7",
   "metadata": {},
   "source": [
    "# Run\n",
    "\n",
    "#### Extract lists of samples and variant properties as arrays\n",
    "* 1,895 samples\n",
    "* 4,571,056 variants\n",
    "\n",
    "#### Select high-quality biallelic SNPs\n",
    "* high quality means 'filter_pass == True' & 'vqslod > 3'\n",
    "* 429,612 variants meet criteria\n",
    "* `select` is a mask for an array of 4,571,056 variants"
   ]
  },
  {
   "cell_type": "code",
   "execution_count": 3,
   "id": "d5f69692",
   "metadata": {},
   "outputs": [
    {
     "name": "stdout",
     "output_type": "stream",
     "text": [
      "There are 6051696 variants and 502221 selected SNPs in 7113 samples.\n"
     ]
    }
   ],
   "source": [
    "samples = callset['samples'][:]\n",
    "\n",
    "filter_pass = callset['variants/FILTER_PASS'][:]\n",
    "vqslod = callset['variants/VQSLOD'][:]\n",
    "snp = callset['variants/is_snp'][:]\n",
    "coding = callset['variants/CDS'][:]\n",
    "numalt = callset['variants/numalt'][:]\n",
    "effect = callset['variants/SNPEFF_EFFECT'][:]\n",
    "\n",
    "# select biallelic synonymous coding SNPs and create a mask\n",
    "select = (filter_pass == True) & (snp == True) & (numalt == 1) & (vqslod > 3)\n",
    "\n",
    "# & (coding == True) & (effect == 'SYNONYMOUS_CODING') \n",
    "\n",
    "selected_snps = np.count_nonzero(select == True)\n",
    "\n",
    "total_variants = len(snp)\n",
    "total_samples = len(samples)\n",
    "\n",
    "print('There are {0:d} variants and {1:d} selected SNPs in {2:d} samples.'.\n",
    "      format(total_variants, selected_snps, total_samples))"
   ]
  },
  {
   "cell_type": "markdown",
   "id": "f0861eea",
   "metadata": {},
   "source": [
    "#### Save allele depths for selected SNPs in `allele_depth_1.npy`\n",
    "* Use the `select` mask created above to pull out selected SNPs\n",
    "* Copy allele depths for selected SNPs from 'calldata/AD' into `allele_depth_1`\n",
    "  * calldata/AD allows for multiallelic loci by containing allele depth for up to 7 variant alleles\n",
    "  * Since we focus on biallelic SNPs we include only the first two alleles from calldata/AD\n",
    "* This file is 3.2GB"
   ]
  },
  {
   "cell_type": "code",
   "execution_count": null,
   "id": "825623b0",
   "metadata": {},
   "outputs": [],
   "source": [
    "# We extract allele depth data for selected SNPs into a numpy array.\n",
    "# We do this in chunks of 10000 variants at a time to avoid memory problems.\n",
    "# This step can be omitted by retrieving saved data in the next section.\n",
    "\n",
    "ad = callset['calldata/AD']\n",
    "\n",
    "allele_depth_1 = 9 * np.ones((selected_snps, total_samples, 2), dtype=np.int16)\n",
    "\n",
    "selected_snp_id = 0\n",
    "\n",
    "chunk_size = 10000\n",
    "\n",
    "for i in range(int(total_variants / chunk_size)):\n",
    "    \n",
    "    start_time = time.time()\n",
    "    \n",
    "    chunk = ad[(i * chunk_size) : ((i + 1) * chunk_size), :, :2]\n",
    "    \n",
    "    chunk_snps = 0\n",
    "\n",
    "    for j in range(chunk_size):\n",
    "        \n",
    "        variant_id = i * chunk_size + j\n",
    "    \n",
    "        if select[variant_id] == True:\n",
    "            \n",
    "            allele_depth_1[selected_snp_id, :, :] = chunk[j, :, :]\n",
    "            \n",
    "            selected_snp_id += 1\n",
    "            \n",
    "            chunk_snps += 1\n",
    "               \n",
    "    chunk_time = time.time() - start_time\n",
    "        \n",
    "    print('chunk {0:d} had {1:d} SNPs and took {2:.2f} seconds'.\n",
    "          format(i, chunk_snps, chunk_time))\n",
    "\n",
    "start_time = time.time()\n",
    "\n",
    "chunk = ad[(i * chunk_size) :, :, :]\n",
    "\n",
    "chunk_snps = 0\n",
    "\n",
    "for j in range(total_variants % chunk_size):\n",
    "    \n",
    "    if select[(i + 1) * chunk_size + j] == True:\n",
    "            \n",
    "        allele_depth_1[selected_snp_id, :, :] = chunk[j, :, :]\n",
    "        \n",
    "        selected_snp_id += 1\n",
    "            \n",
    "        chunk_snps += 1\n",
    "               \n",
    "    chunk_time = time.time() - start_time\n",
    "        \n",
    "print('chunk {0:d} had {1:d} SNPs and took {2:.1f} seconds'.\n",
    "     format(i, chunk_snps, chunk_time))\n",
    "\n",
    "total_snps = selected_snp_id\n",
    "\n",
    "print('total of {0:d} selected snps'.format(total_snps))\n",
    "\n",
    "np.save(data_path + '220318_allele_depth_1', allele_depth_1)"
   ]
  },
  {
   "cell_type": "markdown",
   "id": "9ebe25eb",
   "metadata": {},
   "source": [
    "# Run\n",
    "\n",
    "#### Select samples and list region of each selected sample\n",
    "* 'Population' in Pv4_samples.txt gives: LAM=Latin America, AF=Africa, WAS=Western Asia, WSEA=Western SE Asia, ESEA=Eastern SE Asia, MSEA=Maritime SE Asia, OCE=Oceania, unassigned"
   ]
  },
  {
   "cell_type": "code",
   "execution_count": 10,
   "id": "de6401ac",
   "metadata": {},
   "outputs": [
    {
     "name": "stdout",
     "output_type": "stream",
     "text": [
      "There are 5970 selected samples that passed QC\n"
     ]
    }
   ],
   "source": [
    "df = pd.read_table(data_path + 'samples.txt')\n",
    "\n",
    "select_sample = np.array(df['QC pass'])\n",
    "\n",
    "selected_samples = np.count_nonzero(select_sample == True)\n",
    "\n",
    "print('There are', str(selected_samples), 'selected samples that passed QC')\n",
    "\n",
    "region = []\n",
    "\n",
    "for i in range(total_samples):\n",
    "    \n",
    "    if select_sample[i] == True:\n",
    "        \n",
    "        region.append(df['Population'][i])\n",
    "        \n",
    "with open(data_path + \"230318_region\", \"w\") as fp:\n",
    "    json.dump(region, fp)"
   ]
  },
  {
   "cell_type": "markdown",
   "id": "7ec9f413",
   "metadata": {},
   "source": [
    "#### Copy allele depth for QC pass samples from `allele_depth_1` into `allele_depth_2`\n",
    "* 'QC pass' field in samples.txt gives True/False\n",
    "* Save as .npy file (~11.7GB) so that this step only has to be run once"
   ]
  },
  {
   "cell_type": "code",
   "execution_count": 35,
   "id": "f9faa03c",
   "metadata": {},
   "outputs": [
    {
     "name": "stdout",
     "output_type": "stream",
     "text": [
      "There are 5970 selected samples that passed QC\n"
     ]
    }
   ],
   "source": [
    "allele_depth_1 = np.load(data_path + '230318_allele_depth_1.npy')\n",
    "\n",
    "allele_depth_2 = 9 * np.ones((selected_snps, selected_samples, 2), dtype=np.int16)\n",
    "\n",
    "selected_sample_id = 0\n",
    "\n",
    "for i in range(total_samples):\n",
    "    \n",
    "    if select_sample[i] == True:\n",
    "        \n",
    "        allele_depth_2[:, selected_sample_id, :] = allele_depth_1[:, i, :]\n",
    "        \n",
    "        selected_sample_id += 1\n",
    "        \n",
    "np.save(data_path + '230318_allele_depth_2', allele_depth_2)"
   ]
  },
  {
   "cell_type": "markdown",
   "id": "63078c55",
   "metadata": {},
   "source": [
    "#### Calculate within-host heterozygosity for each SNP and save as `wiho_het.npy`\n",
    "* if ref_allele + alt_allele == 1 then write het = 0.\n",
    "* this file is 3.6GB because dtype=float"
   ]
  },
  {
   "cell_type": "code",
   "execution_count": null,
   "id": "449190f8",
   "metadata": {},
   "outputs": [],
   "source": [
    "allele_depth_2 = np.load(data_path + '230318_allele_depth_2.npy') #, mmap_mode = 'r')\n",
    "\n",
    "selected_samples = len(allele_depth_2[0, :, 0])\n",
    "\n",
    "wiho_het = np.ones((selected_snps, selected_samples), dtype=float)\n",
    "\n",
    "for i in range(selected_snps):\n",
    "    for j in range(selected_samples):\n",
    "        \n",
    "        ref_allele = allele_depth_2[i, j, 0]\n",
    "        alt_allele = allele_depth_2[i, j, 1]\n",
    "        denominator = ref_allele + alt_allele\n",
    "        if denominator != 0:\n",
    "            allele_freq = alt_allele / denominator\n",
    "            het = 2 * allele_freq * (1 - allele_freq)\n",
    "        else:\n",
    "            het = 0 # this is a hack\n",
    "            \n",
    "        wiho_het[i, j] = het\n",
    "\n",
    "    if i % 100 == 0:\n",
    "        print(i)\n",
    "        \n",
    "np.save(data_path + '230318_wiho_het.npy', wiho_het)"
   ]
  },
  {
   "cell_type": "markdown",
   "id": "6677095b",
   "metadata": {},
   "source": [
    "#### Calculate mean within-host heterozygosity for each SNP"
   ]
  },
  {
   "cell_type": "code",
   "execution_count": 7,
   "id": "f24e8087",
   "metadata": {
    "scrolled": true
   },
   "outputs": [],
   "source": [
    "wiho_het = np.load(data_path + '230318_wiho_het.npy', mmap_mode = 'r')\n",
    "\n",
    "het_per_snp = []\n",
    "\n",
    "for i in range(selected_snps):\n",
    "    \n",
    "    x = np.mean(wiho_het[i, :])\n",
    "    \n",
    "    het_per_snp.append(x)\n",
    "    \n",
    "with open(data_path + \"230318_het_per_snp\", \"w\") as filepath:\n",
    "    json.dump(het_per_snp, filepath)        "
   ]
  },
  {
   "cell_type": "markdown",
   "id": "e70ff510",
   "metadata": {},
   "source": [
    "# Run\n",
    "\n",
    "#### Create `snp_filter` to filter out possible hyperhets\n",
    "* Here we use het >= 0.02 as our criterion for exclusion "
   ]
  },
  {
   "cell_type": "code",
   "execution_count": 19,
   "id": "bf073adb",
   "metadata": {},
   "outputs": [
    {
     "name": "stdout",
     "output_type": "stream",
     "text": [
      "This includes 496459 SNPs\n"
     ]
    }
   ],
   "source": [
    "with open(data_path + \"230318_het_per_snp\", \"r\") as fp:\n",
    "    het_per_snp = json.load(fp)\n",
    "\n",
    "snp_filter = []\n",
    "\n",
    "for i in range(selected_snps):\n",
    "    \n",
    "    if het_per_snp[i] < 0.02:\n",
    "        \n",
    "        snp_filter.append(True)\n",
    "    \n",
    "    else:\n",
    "        snp_filter.append(False)\n",
    "        \n",
    "filtered_snps = snp_filter.count(True)\n",
    "        \n",
    "print('This includes', str(filtered_snps), 'SNPs')"
   ]
  },
  {
   "cell_type": "markdown",
   "id": "eebb3601",
   "metadata": {},
   "source": [
    "# Run\n",
    "\n",
    "#### Create `sample_filter` to select a particular geographical region\n",
    "* LAM=Latin America, AF=Africa, WAS=Western Asia, WSEA=Western SE Asia, ESEA=Eastern SE Asia, MSEA=Maritime SE Asia, OCE=Oceania, unassigned"
   ]
  },
  {
   "cell_type": "code",
   "execution_count": 20,
   "id": "053e4492",
   "metadata": {},
   "outputs": [
    {
     "name": "stdout",
     "output_type": "stream",
     "text": [
      "This includes 5970 samples\n"
     ]
    }
   ],
   "source": [
    "with open(data_path + \"230318_region\", \"r\") as fp:\n",
    "    region = json.load(fp)\n",
    "\n",
    "sample_filter = []\n",
    "\n",
    "for i in range(selected_samples):\n",
    "    \n",
    "    if region[i] != False:\n",
    "        \n",
    "        sample_filter.append(True)\n",
    "        \n",
    "    else:\n",
    "        \n",
    "        sample_filter.append(False)\n",
    "        \n",
    "filtered_samples = sample_filter.count(True)\n",
    "    \n",
    "print('This includes', str(filtered_samples), 'samples')"
   ]
  },
  {
   "cell_type": "markdown",
   "id": "906c4943",
   "metadata": {},
   "source": [
    "# Run\n",
    "\n",
    "#### Calculate mean heterozygosity per sample after filtering samples and SNPs\n",
    "* Creates a list of het values, one for each selected & filtered sample \n",
    "* This is the mean het for selected & filtered SNPs and not for all nucleotide positions"
   ]
  },
  {
   "cell_type": "code",
   "execution_count": 21,
   "id": "351f801e",
   "metadata": {},
   "outputs": [
    {
     "name": "stdout",
     "output_type": "stream",
     "text": [
      "0\n",
      "1000\n",
      "2000\n",
      "3000\n",
      "4000\n",
      "5000\n"
     ]
    }
   ],
   "source": [
    "wiho_het = np.load(data_path + '230318_wiho_het.npy', mmap_mode = 'r')\n",
    "\n",
    "het_per_sample = []\n",
    "\n",
    "for i in range(selected_samples):\n",
    "    \n",
    "    if sample_filter[i] == True:\n",
    "\n",
    "        het = []\n",
    "    \n",
    "        for j in range(selected_snps):\n",
    "    \n",
    "            if snp_filter[j] == True: \n",
    "            \n",
    "                het.append(wiho_het[j, i])\n",
    "    \n",
    "        y = stat.mean(het)\n",
    "    \n",
    "        het_per_sample.append(y)\n",
    "    \n",
    "    if i % 1000 == 0:\n",
    "        \n",
    "        print(i)\n",
    "        \n",
    "with open(data_path + \"230318_het_per_sample_ALL\", \"w\") as filepath:\n",
    "    json.dump(het_per_sample, filepath)"
   ]
  },
  {
   "cell_type": "markdown",
   "id": "f72882eb",
   "metadata": {},
   "source": [
    "#### Plot histogram of within-host nucleotide diversity"
   ]
  },
  {
   "cell_type": "code",
   "execution_count": 23,
   "id": "7126767e",
   "metadata": {},
   "outputs": [
    {
     "data": {
      "image/png": "[encoded data removed]",
      "text/plain": [
       "<Figure size 640x480 with 1 Axes>"
      ]
     },
     "metadata": {},
     "output_type": "display_data"
    }
   ],
   "source": [
    "# All regions - only SNPs with maf < 0.01\n",
    "\n",
    "with open(data_path + \"230318_het_per_sample_ALL\", \"r\") as filepath:\n",
    "    het_per_sample = json.load(filepath)\n",
    "    \n",
    "selected_snps = 494829 # this is <0.01 maf, total is 502221\n",
    "coding_positions = 12028350 # from Gardner et al 2002\n",
    "\n",
    "convert_het_to_pi = selected_snps / coding_positions\n",
    "\n",
    "het_per_sample_nonzero = [convert_het_to_pi * x for x in het_per_sample if x != 0]\n",
    "log_het_per_sample = [math.log(x, 10) for x in het_per_sample_nonzero]\n",
    "plt.hist(log_het_per_sample, bins = 100)\n",
    "plt.xlabel('Within-host nucleotide diversity \\u03C0')\n",
    "plt.ylabel('Number of samples')\n",
    "plt.grid()\n",
    "plt.show()\n"
   ]
  }
 ],
 "metadata": {
  "kernelspec": {
   "display_name": "Python 3 (ipykernel)",
   "language": "python",
   "name": "python3"
  },
  "language_info": {
   "codemirror_mode": {
    "name": "ipython",
    "version": 3
   },
   "file_extension": ".py",
   "mimetype": "text/x-python",
   "name": "python",
   "nbconvert_exporter": "python",
   "pygments_lexer": "ipython3",
   "version": "3.9.13"
  }
 },
 "nbformat": 4,
 "nbformat_minor": 5
}
