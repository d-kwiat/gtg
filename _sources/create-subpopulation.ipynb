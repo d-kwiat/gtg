{
 "cells": [
  {
   "cell_type": "markdown",
   "metadata": {},
   "source": [
    "# Create a subpopulation\n",
    "\n",
    "`coalestr` allows us to create subpopulations that are embedded within a larger metapopulation, and that receive migration from the metapopulation.  \n",
    "\n",
    "The first step is to create the metapopulation, in just the same way as [creating a simple population](create-population.ipynb).  We then run `get_coalescent` on the metapopulation to generate coalescent data that will be utilised when we analyse the subpopulation."
   ]
  },
  {
   "cell_type": "code",
   "execution_count": 1,
   "metadata": {
    "id": "u6mMesezxVxT"
   },
   "outputs": [],
   "source": [
    "import coalestr as cs\n",
    "import matplotlib.pyplot as plt"
   ]
  },
  {
   "cell_type": "code",
   "execution_count": null,
   "metadata": {},
   "outputs": [],
   "source": [
    "!pip install coalestr\n",
    "from coalestr import cs"
   ]
  },
  {
   "cell_type": "code",
   "execution_count": 10,
   "metadata": {},
   "outputs": [
    {
     "name": "stdout",
     "output_type": "stream",
     "text": [
      "Observation time.    Events captured.   Mean coalescence time\n",
      "                      beho      wiho        beho     wiho\n",
      "        0             100.0     100.0      2113.4   1392.8\n"
     ]
    }
   ],
   "source": [
    "# We specify a history of transmission parameters for the metapopulation\n",
    "# with the format [duration, N, Q, X, M]\n",
    "\n",
    "my_metapop_history = [[20000, 1000, 5, 0.5, 0]]\n",
    "\n",
    "my_metapopulation = cs.Population(my_metapop_history)\n",
    "\n",
    "my_metapopulation.get_coalescent()"
   ]
  },
  {
   "cell_type": "markdown",
   "metadata": {},
   "source": [
    "Now can create the subpopulation simply by naming its metapopulation, and by specifying the rate of migration from the metapopulation in its history of transmission parameters.  `M` gives the number of hosts per generation that enter the subpopulation from the metapopulation, which must be less than or equal to `N`."
   ]
  },
  {
   "cell_type": "code",
   "execution_count": 15,
   "metadata": {},
   "outputs": [
    {
     "name": "stdout",
     "output_type": "stream",
     "text": [
      "Observation time.    Events captured.   Mean coalescence time\n",
      "                      beho      wiho        beho     wiho\n",
      "        0             100.0     100.0      1833.9   1606.5\n"
     ]
    }
   ],
   "source": [
    "# We specify a history of transmission parameters for the subpopulation\n",
    "# with the format [duration, N, Q, X, M]\n",
    "\n",
    "my_subpop_history = [[1000, 30, 5, 1, 1]]\n",
    "\n",
    "my_subpopulation = cs.Population(my_subpop_history, metapopulation = my_metapopulation)\n",
    "\n",
    "my_subpopulation.get_coalescent()"
   ]
  },
  {
   "cell_type": "markdown",
   "metadata": {},
   "source": [
    "In the above example `M = 1`.  If we change this to `M = 0`, we can immediately see how a small rate of migration from the metapopulation into the subpopulation makes a big difference to the coalescence time in the subpopulation.  "
   ]
  },
  {
   "cell_type": "code",
   "execution_count": 16,
   "metadata": {},
   "outputs": [
    {
     "name": "stdout",
     "output_type": "stream",
     "text": [
      "Observation time.    Events captured.   Mean coalescence time\n",
      "                      beho      wiho        beho     wiho\n",
      "        0             100.0     100.0       100.6     88.3\n"
     ]
    }
   ],
   "source": [
    "my_subpop_history = [[1000, 30, 5, 1, 0]]\n",
    "\n",
    "my_subpopulation = cs.Population(my_subpop_history, metapopulation = my_metapopulation)\n",
    "\n",
    "my_subpopulation.get_coalescent()"
   ]
  }
 ],
 "metadata": {
  "colab": {
   "authorship_tag": "ABX9TyPowKR+rZN/bl9JdV3+UGGK",
   "collapsed_sections": [],
   "include_colab_link": true,
   "name": "211008_coalescence_times.ipynb",
   "provenance": []
  },
  "kernelspec": {
   "display_name": "Python 3 (ipykernel)",
   "language": "python",
   "name": "python3"
  },
  "language_info": {
   "codemirror_mode": {
    "name": "ipython",
    "version": 3
   },
   "file_extension": ".py",
   "mimetype": "text/x-python",
   "name": "python",
   "nbconvert_exporter": "python",
   "pygments_lexer": "ipython3",
   "version": "3.9.13"
  }
 },
 "nbformat": 4,
 "nbformat_minor": 1
}
