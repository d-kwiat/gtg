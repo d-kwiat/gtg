{
 "cells": [
  {
   "cell_type": "markdown",
   "metadata": {},
   "source": [
    "# Running `get_diversity`\n",
    "\n",
    "Once we have [created a population by specifying its transmission history](create-population.ipynb) and performed a [Markov chain simulation of coalescence times](coalescence-time-basic.ipynb) using `get_coalescent`, we can estimate levels of nucleotide diversity and haplotype homozygosity using `get_diversity`."
   ]
  },
  {
   "cell_type": "code",
   "execution_count": null,
   "metadata": {},
   "outputs": [],
   "source": [
    "!pip install coalestr\n",
    "from coalestr import cs"
   ]
  },
  {
   "cell_type": "code",
   "execution_count": 2,
   "metadata": {},
   "outputs": [],
   "source": [
    "import coalestr as cs"
   ]
  },
  {
   "cell_type": "code",
   "execution_count": 3,
   "metadata": {},
   "outputs": [
    {
     "name": "stdout",
     "output_type": "stream",
     "text": [
      "Observation time.    Events captured.   Mean coalescence time\n",
      "                      beho      wiho        beho     wiho\n",
      "        0             100.0     100.0        25.1     18.9\n"
     ]
    }
   ],
   "source": [
    "# Specify the transmission history of a population\n",
    "# Each inner list gives [duration, N, Q, X, M] for a period of history\n",
    "my_history = [[1000, 30, 10, 0, 0], [1000, 10, 5, 0.5, 0]]\n",
    "\n",
    "# Create the population\n",
    "my_population = cs.Population(my_history)\n",
    "\n",
    "# Obtain coalescence times\n",
    "my_population.get_coalescent()"
   ]
  },
  {
   "cell_type": "code",
   "execution_count": 4,
   "metadata": {},
   "outputs": [
    {
     "name": "stdout",
     "output_type": "stream",
     "text": [
      "Observation time.  Nucleotide diversity     Haplotype homozygosity\n",
      "                      beho       wiho           beho       wiho\n",
      "        0           5.52e-07   4.16e-07       7.52e-01   8.12e-01\n"
     ]
    }
   ],
   "source": [
    "# Once we have run get_coalescent we can run get_diversity\n",
    "my_population.get_diversity()"
   ]
  },
  {
   "cell_type": "code",
   "execution_count": 5,
   "metadata": {},
   "outputs": [
    {
     "name": "stdout",
     "output_type": "stream",
     "text": [
      "Observation time.  Nucleotide diversity     Haplotype homozygosity\n",
      "                      beho       wiho           beho       wiho\n",
      "     1500           8.58e-07   2.20e-07       6.45e-01   8.85e-01\n",
      "     1000           8.58e-07   2.20e-07       7.17e-01   9.13e-01\n",
      "      500           5.52e-07   4.16e-07       8.25e-01   8.68e-01\n",
      "        0           5.52e-07   4.16e-07       7.94e-01   8.44e-01\n"
     ]
    }
   ],
   "source": [
    "# If we specify multiple observation times for get_coalescent\n",
    "# .. these are automatically passed to get_diversity\n",
    "\n",
    "my_observations = [0, 500, 1000, 1500]\n",
    "\n",
    "my_population.get_coalescent(observe = my_observations, show = False)\n",
    "\n",
    "my_population.get_diversity()"
   ]
  }
 ],
 "metadata": {
  "kernelspec": {
   "display_name": "Python 3 (ipykernel)",
   "language": "python",
   "name": "python3"
  },
  "language_info": {
   "codemirror_mode": {
    "name": "ipython",
    "version": 3
   },
   "file_extension": ".py",
   "mimetype": "text/x-python",
   "name": "python",
   "nbconvert_exporter": "python",
   "pygments_lexer": "ipython3",
   "version": "3.9.13"
  }
 },
 "nbformat": 4,
 "nbformat_minor": 2
}
