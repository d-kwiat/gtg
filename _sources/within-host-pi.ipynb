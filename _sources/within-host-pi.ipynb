{
 "cells": [
  {
   "cell_type": "markdown",
   "id": "d11209a3",
   "metadata": {
    "id": "d11209a3"
   },
   "source": [
    "# Within-host $\\pi_W$\n",
    "\n",
    "This code examines the frequency distribution of within-host nucleotide diversity $\\pi_W$ in samples taken from malaria-infected individuals around the world.\n",
    "* We find that $\\pi_W$ has a strikingly bimodal distribution (scroll down to see plots showing this).\n",
    "* We postulate that one of the peaks (with high $\\pi_W$) represents hosts that have been superinfected, or who lie on a transmission chain where there is cotransmission following a recent episode of superinfection.\n",
    "* We postulate that the other peak (with low $\\pi_W$) represents transmission chains where there has been no recent superinfection or cotransmission.  \n",
    "* We can use the low $\\pi_W$ peak to estimate the quantum of transmission with the formula $Q = \\pi_W / 2 \\mu$.\n",
    "\n",
    "#### About the data\n",
    "\n",
    "Data are from the [MalariaGEN Pf6 dataset](https://www.malariagen.net/resource/26) which has data on 6,051,696 variants in 7,113 samples from 30 countries. This notebook uses files that we have created based on:\n",
    "* Selected variants that are high-quality biallelic coding SNPs (n = 502,221). High quality means 'filter_pass == True' & 'vqslod > 3'\n",
    "* Selected samples that passed QC (n = 5,970)\n",
    "* Data on allele depth for reference and non-reference forms of these biallelic SNPs in individual samples, from which we have calculated within-host heterozygosity for each SNP in each sample.\n",
    "\n",
    "Elsewhere we show [an analysis of the SNPs that are heterozygous in samples with low $\\pi_W$](https://d-kwiat.github.io/gtg/pi_w_checks.html) as a sanity check to exclude the possibility that the low $\\pi_W$ peak is a technical artefact due to systematic genotyping errors.  "
   ]
  },
  {
   "cell_type": "markdown",
   "id": "63078c55",
   "metadata": {
    "id": "63078c55"
   },
   "source": [
    "#### We will use these files\n",
    "\n",
    "**These files are not currently available via Google Colab so this notebook is for info only** \n",
    "\n",
    "`wiho_het.npy`\n",
    "* Gives within-host heterozygosity for each SNP (n = 502,221) in each sample (n = 5,970).  \n",
    "* As we have selected biallelic SNPs this is easy to calculate from allele depth data.\n",
    "* Filename: `230318_wiho_het.npy`\n",
    "* This is a large file - 11.7GB - so it takes a while to process\n",
    "\n",
    "`region`\n",
    "* A list of geographical regions for 5,970 selected samples\n",
    "* 'SAM'=South America, 'WAF'=West Africa, 'CAF'=Central Africa, 'EAF'=East African, 'SAS'=South Asia, 'WSEA'=Western SE Asia, 'ESEA'=Eastern SE Asia, 'OCE'=Oceania\n",
    "* Filename: `230316_region`\n",
    "\n",
    "`het_per_snp`\n",
    "* Mean within-host heterozygosity for each SNP, calculated from `wiho_het.npy`\n",
    "* Filename: `230317_het_per_snp`\n",
    "\n",
    "`het_per_sample`\n",
    "* Mean within-host heterozygosity for each sample after filtering by SNP heterozygosity (typically <0.02) and by geographical region.\n",
    "* Filenames:\n",
    "  * All regions (5970 samples): `230317_het_per_sample_ALL`\n",
    "  * Southeast Asia: `230316_het_per_sample_SEA`\n",
    "  * Africa (3314 samples): `230317_het_per_sample_Africa`"
   ]
  },
  {
   "cell_type": "code",
   "execution_count": null,
   "id": "rISrBSPwxKWc",
   "metadata": {
    "colab": {
     "base_uri": "https://localhost:8080/"
    },
    "executionInfo": {
     "elapsed": 24989,
     "status": "ok",
     "timestamp": 1679068387570,
     "user": {
      "displayName": "Dominic K",
      "userId": "01708458740248776030"
     },
     "user_tz": 0
    },
    "id": "rISrBSPwxKWc",
    "outputId": "92cec20b-33d1-4fe3-90b3-89f6ab13cf2e"
   },
   "outputs": [
    {
     "name": "stdout",
     "output_type": "stream",
     "text": [
      "Mounted at /content/drive\n"
     ]
    }
   ],
   "source": [
    "from google.colab import drive\n",
    "\n",
    "drive.mount('/content/drive')\n",
    "\n",
    "data_path = \"/content/drive/My Drive/Colab Data/Pf6/\""
   ]
  },
  {
   "cell_type": "code",
   "execution_count": null,
   "id": "41808b5a",
   "metadata": {
    "id": "41808b5a"
   },
   "outputs": [],
   "source": [
    "import numpy as np\n",
    "import json\n",
    "import math\n",
    "import matplotlib.pyplot as plt\n",
    "import statistics as stat"
   ]
  },
  {
   "cell_type": "code",
   "execution_count": null,
   "id": "FxDj6TBiKvEI",
   "metadata": {
    "id": "FxDj6TBiKvEI"
   },
   "outputs": [],
   "source": [
    "selected_snps = 502221\n",
    "selected_samples = 5970"
   ]
  },
  {
   "cell_type": "markdown",
   "id": "e70ff510",
   "metadata": {
    "id": "e70ff510"
   },
   "source": [
    "#### Create `snp_filter` to filter out possible hyperhets\n",
    "* Here we use het < 0.02 as our criterion for inclusion "
   ]
  },
  {
   "cell_type": "code",
   "execution_count": null,
   "id": "bf073adb",
   "metadata": {
    "colab": {
     "base_uri": "https://localhost:8080/"
    },
    "executionInfo": {
     "elapsed": 1942,
     "status": "ok",
     "timestamp": 1679068407635,
     "user": {
      "displayName": "Dominic K",
      "userId": "01708458740248776030"
     },
     "user_tz": 0
    },
    "id": "bf073adb",
    "outputId": "33ba6bd7-a112-400f-ab52-d18dff576e52"
   },
   "outputs": [
    {
     "name": "stdout",
     "output_type": "stream",
     "text": [
      "This includes 496459 SNPs\n"
     ]
    }
   ],
   "source": [
    "with open(data_path + \"230317_het_per_snp\", \"r\") as fp:\n",
    "    het_per_snp = json.load(fp)\n",
    "\n",
    "snp_filter = []\n",
    "\n",
    "for i in range(selected_snps):\n",
    "    \n",
    "    if het_per_snp[i] < 0.02:\n",
    "        \n",
    "        snp_filter.append(True)\n",
    "    \n",
    "    else:\n",
    "        snp_filter.append(False)\n",
    "        \n",
    "filtered_snps = snp_filter.count(True)\n",
    "        \n",
    "print('This includes', str(filtered_snps), 'SNPs')"
   ]
  },
  {
   "cell_type": "markdown",
   "id": "eebb3601",
   "metadata": {
    "id": "eebb3601"
   },
   "source": [
    "#### Create `sample_filter` to select a particular geographical region\n",
    "* 'SAM'=South America, 'WAF'=West Africa, 'CAF'=Central Africa, 'EAF'=East African, 'SAS'=South Asia, 'WSEA'=Western SE Asia, 'ESEA'=Eastern SE Asia, 'OCE'=Oceania"
   ]
  },
  {
   "cell_type": "code",
   "execution_count": null,
   "id": "053e4492",
   "metadata": {
    "colab": {
     "base_uri": "https://localhost:8080/"
    },
    "executionInfo": {
     "elapsed": 1457,
     "status": "ok",
     "timestamp": 1679071152229,
     "user": {
      "displayName": "Dominic K",
      "userId": "01708458740248776030"
     },
     "user_tz": 0
    },
    "id": "053e4492",
    "outputId": "e4b10864-02c2-4abd-d885-f5977e834331"
   },
   "outputs": [
    {
     "name": "stdout",
     "output_type": "stream",
     "text": [
      "This includes 3314 samples\n"
     ]
    }
   ],
   "source": [
    "with open(data_path + \"230316_region\", \"r\") as fp:\n",
    "    region = json.load(fp)\n",
    "\n",
    "sample_filter = []\n",
    "\n",
    "for i in range(selected_samples):\n",
    "    \n",
    "    if region[i] == \"CAF\" or region[i] == \"EAF\" or region[i] == \"WAF\":\n",
    "        \n",
    "        sample_filter.append(True)\n",
    "        \n",
    "    else:\n",
    "        \n",
    "        sample_filter.append(False)\n",
    "        \n",
    "filtered_samples = sample_filter.count(True)\n",
    "    \n",
    "print('This includes', str(filtered_samples), 'samples')"
   ]
  },
  {
   "cell_type": "markdown",
   "id": "906c4943",
   "metadata": {
    "id": "906c4943"
   },
   "source": [
    "#### Calculate mean heterozygosity per sample after filtering samples and SNPs\n",
    "* Creates a list of het values, one for each selected & filtered sample \n",
    "* This is the mean het for selected & filtered SNPs and not for all nucleotide positions\n",
    "* On Colab this should take approximately 15 minutes depending on the selection of regions\n",
    "* Save the output for future use"
   ]
  },
  {
   "cell_type": "code",
   "execution_count": null,
   "id": "351f801e",
   "metadata": {
    "id": "351f801e"
   },
   "outputs": [],
   "source": [
    "wiho_het = np.load(data_path + '230318_wiho_het.npy', mmap_mode = 'r')\n",
    "\n",
    "het_per_sample = []\n",
    "\n",
    "for i in range(selected_samples):\n",
    "    \n",
    "    if sample_filter[i] == True:\n",
    "\n",
    "        het = []\n",
    "    \n",
    "        for j in range(selected_snps):\n",
    "    \n",
    "            if snp_filter[j] == True: \n",
    "            \n",
    "                het.append(wiho_het[j, i])\n",
    "    \n",
    "        y = stat.mean(het)\n",
    "    \n",
    "        het_per_sample.append(y)\n",
    "    \n",
    "    if i % 10 == 0:\n",
    "        \n",
    "        print(i)\n",
    "        \n",
    "with open(data_path + \"230317_het_per_sample_Africa\", \"w\") as filepath:\n",
    "    json.dump(het_per_sample, filepath)"
   ]
  },
  {
   "cell_type": "markdown",
   "id": "f72882eb",
   "metadata": {
    "id": "f72882eb"
   },
   "source": [
    "#### Plot histogram of within-host nucleotide diversity"
   ]
  },
  {
   "cell_type": "code",
   "execution_count": null,
   "id": "4aaaa6f3",
   "metadata": {
    "colab": {
     "base_uri": "https://localhost:8080/",
     "height": 279
    },
    "executionInfo": {
     "elapsed": 1949,
     "status": "ok",
     "timestamp": 1679074120301,
     "user": {
      "displayName": "Dominic K",
      "userId": "01708458740248776030"
     },
     "user_tz": 0
    },
    "id": "4aaaa6f3",
    "outputId": "29b09b18-ea30-4399-c3d5-041159bd6622"
   },
   "outputs": [
    {
     "data": {
      "image/png": "[encoded data removed]",
      "text/plain": [
       "<Figure size 432x288 with 1 Axes>"
      ]
     },
     "metadata": {
      "needs_background": "light"
     },
     "output_type": "display_data"
    }
   ],
   "source": [
    "# All regions - only SNPs with het < 0.02\n",
    "\n",
    "with open(data_path + \"230317_het_per_sample_ALL\", \"r\") as filepath:\n",
    "    het_per_sample = json.load(filepath)\n",
    "    \n",
    "selected_snps = 494829 # this is <0.01 maf, total is 502221\n",
    "coding_positions = 12028350 # from Gardner et al 2002\n",
    "\n",
    "convert_het_to_pi = selected_snps / coding_positions\n",
    "\n",
    "het_per_sample_nonzero = [convert_het_to_pi * x for x in het_per_sample if x != 0]\n",
    "log_het_per_sample = [math.log(x, 10) for x in het_per_sample_nonzero]\n",
    "plt.hist(log_het_per_sample, bins = 100)\n",
    "plt.xlabel('Within-host nucleotide diversity \\u03C0')\n",
    "plt.ylabel('Number of samples')\n",
    "plt.grid()\n",
    "plt.show()"
   ]
  },
  {
   "cell_type": "code",
   "execution_count": null,
   "id": "Mq6GCJzzm3hb",
   "metadata": {
    "colab": {
     "base_uri": "https://localhost:8080/",
     "height": 279
    },
    "executionInfo": {
     "elapsed": 453,
     "status": "ok",
     "timestamp": 1679074021720,
     "user": {
      "displayName": "Dominic K",
      "userId": "01708458740248776030"
     },
     "user_tz": 0
    },
    "id": "Mq6GCJzzm3hb",
    "outputId": "4e2b7f3c-26f8-4e3d-8302-48c91533370d"
   },
   "outputs": [
    {
     "data": {
      "image/png": "[encoded data removed]",
      "text/plain": [
       "<Figure size 432x288 with 1 Axes>"
      ]
     },
     "metadata": {
      "needs_background": "light"
     },
     "output_type": "display_data"
    }
   ],
   "source": [
    "# Africa - only SNPs with het < 0.02\n",
    "\n",
    "with open(data_path + \"230317_het_per_sample_Africa\", \"r\") as filepath:\n",
    "    het_per_sample = json.load(filepath)\n",
    "    \n",
    "selected_snps = 494829 # this is <0.01 maf, total is 502221\n",
    "coding_positions = 12028350 # from Gardner et al 2002\n",
    "\n",
    "convert_het_to_pi = selected_snps / coding_positions\n",
    "\n",
    "het_per_sample_nonzero = [convert_het_to_pi * x for x in het_per_sample if x != 0]\n",
    "log_het_per_sample = [math.log(x, 10) for x in het_per_sample_nonzero]\n",
    "plt.hist(log_het_per_sample, bins = 100)\n",
    "plt.xlabel('Within-host nucleotide diversity \\u03C0')\n",
    "plt.ylabel('Number of samples')\n",
    "plt.grid()\n",
    "plt.show()"
   ]
  },
  {
   "cell_type": "code",
   "execution_count": null,
   "id": "90954a43",
   "metadata": {
    "colab": {
     "base_uri": "https://localhost:8080/",
     "height": 279
    },
    "executionInfo": {
     "elapsed": 1240,
     "status": "ok",
     "timestamp": 1679074327570,
     "user": {
      "displayName": "Dominic K",
      "userId": "01708458740248776030"
     },
     "user_tz": 0
    },
    "id": "90954a43",
    "outputId": "1e413ba0-9bd7-4415-a8bf-4da1df13c2b4"
   },
   "outputs": [
    {
     "data": {
      "image/png": "[encoded data removed]",
      "text/plain": [
       "<Figure size 432x288 with 1 Axes>"
      ]
     },
     "metadata": {
      "needs_background": "light"
     },
     "output_type": "display_data"
    }
   ],
   "source": [
    "# Southeast Asia - only SNPs with het < 0.02\n",
    "\n",
    "with open(data_path + \"230316_het_per_sample_SEA\", \"r\") as filepath:\n",
    "    het_per_sample = json.load(filepath)\n",
    "    \n",
    "coding_positions = 12028350 # from Gardner et al 2002\n",
    "\n",
    "convert_het_to_pi = filtered_snps / coding_positions\n",
    "\n",
    "het_per_sample_nonzero = [convert_het_to_pi * x for x in het_per_sample if x != 0]\n",
    "log_het_per_sample = [math.log(x, 10) for x in het_per_sample_nonzero]\n",
    "plt.hist(log_het_per_sample, bins = 100)\n",
    "plt.xlabel('Within-host nucleotide diversity \\u03C0')\n",
    "plt.ylabel('Number of samples')\n",
    "plt.grid()\n",
    "plt.show()"
   ]
  }
 ],
 "metadata": {
  "colab": {
   "provenance": [
    {
     "file_id": "1Uh_VsYIfiVA7shhKg-3ySxLQIIrFO0tJ",
     "timestamp": 1679075693922
    },
    {
     "file_id": "1X4yoMuxYP3njO2gVjRpq87A9y02PvfFp",
     "timestamp": 1679074804996
    },
    {
     "file_id": "1X4yoMuxYP3njO2gVjRpq87A9y02PvfFp",
     "timestamp": 1679067120783
    },
    {
     "file_id": "1b5zBiKsrmSCyFaWQSUK_JxCGSO15WLzr",
     "timestamp": 1679065810936
    },
    {
     "file_id": "1v8lbDboySD_WnTDHfIqd4_jRDsy7nvME",
     "timestamp": 1679063711325
    }
   ]
  },
  "gpuClass": "premium",
  "kernelspec": {
   "display_name": "Python 3 (ipykernel)",
   "language": "python",
   "name": "python3"
  },
  "language_info": {
   "codemirror_mode": {
    "name": "ipython",
    "version": 3
   },
   "file_extension": ".py",
   "mimetype": "text/x-python",
   "name": "python",
   "nbconvert_exporter": "python",
   "pygments_lexer": "ipython3",
   "version": "3.9.13"
  }
 },
 "nbformat": 4,
 "nbformat_minor": 5
}
