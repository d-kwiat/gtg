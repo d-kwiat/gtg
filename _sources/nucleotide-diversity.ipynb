{
 "cells": [
  {
   "cell_type": "markdown",
   "metadata": {},
   "source": [
    "# Nucleotide diversity\n",
    "\n",
    "We define nucleotide diversity ($\\pi$) as the probability that two alleles are heterozygous at a random nucleotide position in the genome.\n",
    "\n",
    "![nucleotide-diversity](nucleotide-diversity.png)\n",
    "\n",
    "where **T** is a random variable representing time to coalescence and $\\mu$ is the single nucleotide substitution rate. From empirical observations we estimate that $\\mu = 1.1 \\times 10^{-8}$ per generation.\n",
    "\n",
    "We evaluate the above expression by using `coalestr` as follows:\n",
    "\n",
    "1. We [create a `Population`](https://d-kwiat.github.io/gtg/population-class.html) by specifying its transmission history.\n",
    "\n",
    "1. We obtain the probability distribution of **T** [using `get_coalescent`](https://d-kwiat.github.io/gtg/get-coalescent.html).\n",
    "\n",
    "1. We evaluate the above summation series [using `get_diversity`](https://d-kwiat.github.io/gtg/get-diversity.html)."
   ]
  },
  {
   "cell_type": "code",
   "execution_count": 1,
   "metadata": {
    "collapsed": true
   },
   "outputs": [],
   "source": [
    "!pip install coalestr\n",
    "from coalestr import cs"
   ]
  },
  {
   "cell_type": "code",
   "execution_count": 1,
   "metadata": {},
   "outputs": [],
   "source": [
    "import coalestr as cs"
   ]
  },
  {
   "cell_type": "code",
   "execution_count": 7,
   "metadata": {},
   "outputs": [
    {
     "name": "stdout",
     "output_type": "stream",
     "text": [
      "Observation time.    Events captured.   Mean coalescence time\n",
      "                      beho      wiho        beho     wiho\n",
      "        0              99.5     100.0     18188.4      1.0\n",
      "Observation time.    SNP heterozygosity.   Haplotype homozygosity at 27.0 kb locus\n",
      "                      beho       wiho           beho       wiho\n",
      "        0           4.00e-04   2.20e-08       4.09e-03   9.87e-01\n"
     ]
    }
   ],
   "source": [
    "# We create a history of transmission parameters which in this case are constant over time\n",
    "# myhistory = [t_sim, N, Q, X, M]\n",
    "#    t_sim = duration of simulation\n",
    "#    N = effective number of hosts (Nh)\n",
    "#    Q = quantum of transmission\n",
    "#    X = crossing rate of transmission chains (chi)\n",
    "#    M = number of migrant hosts (Nm)\n",
    "\n",
    "my_history = [[100000, 18764, 1, 0, 0]]\n",
    "my_population = cs.Population(my_history)\n",
    "my_population.get_coalescent()\n",
    "my_population.get_diversity()"
   ]
  },
  {
   "cell_type": "markdown",
   "metadata": {},
   "source": [
    "This tells us that for between-host (*beho*) comparisons, i.e. sampling from different hosts:\n",
    "* Our simulation captures 99.5% of coalescent events\n",
    "* Mean coalescence time is 18188.4 generations\n",
    "* Nucleotide diversity (aka SNP heterozygosity) is $4 \\times 10^{-4}$\n",
    "\n",
    "For within-host (*wiho*) comparisons, i.e. sampling from the same host:\n",
    "* Our simulation captures 100% of coalescent events\n",
    "* Mean coalescence time is 1 generation\n",
    "* Nucleotide diversity (aka SNP heterozygosity) is $2.2 \\times 10^{-8}$\n",
    "\n",
    "Haplotype homozygosity [is discussed elsewhere](https://d-kwiat.github.io/gtg/haplotype-homozygosity-2cM.html).\n",
    "\n",
    "In the following cells we will look at other combinations of transmission parameters that give us the same level of between-host nucleotide diversity, i.e. $\\pi = 4 \\times 10^{-4}$."
   ]
  },
  {
   "cell_type": "code",
   "execution_count": 15,
   "metadata": {},
   "outputs": [],
   "source": [
    "def my_pop (t_sim, N, Q, X, M):\n",
    "    pop = cs.Population(history = [[t_sim, N, Q, X, M]])\n",
    "    pop.get_coalescent()\n",
    "    pop.get_diversity()"
   ]
  },
  {
   "cell_type": "code",
   "execution_count": 16,
   "metadata": {},
   "outputs": [
    {
     "name": "stdout",
     "output_type": "stream",
     "text": [
      "Observation time.    Events captured.   Mean coalescence time\n",
      "                      beho      wiho        beho     wiho\n",
      "        0              99.5     100.0     18188.8     10.0\n",
      "Observation time.    SNP heterozygosity.   Haplotype homozygosity at 27.0 kb locus\n",
      "                      beho       wiho           beho       wiho\n",
      "        0           4.00e-04   2.20e-07       3.67e-03   8.85e-01\n"
     ]
    }
   ],
   "source": [
    "my_pop(100000, 18754, 10, 0, 0)"
   ]
  },
  {
   "cell_type": "code",
   "execution_count": 17,
   "metadata": {},
   "outputs": [
    {
     "name": "stdout",
     "output_type": "stream",
     "text": [
      "Observation time.    Events captured.   Mean coalescence time\n",
      "                      beho      wiho        beho     wiho\n",
      "        0              99.5      99.8     18180.0   9091.0\n",
      "Observation time.    SNP heterozygosity.   Haplotype homozygosity at 27.0 kb locus\n",
      "                      beho       wiho           beho       wiho\n",
      "        0           4.00e-04   2.00e-04       4.09e-03   4.96e-01\n"
     ]
    }
   ],
   "source": [
    "my_pop(100000, 18754, 1, 0.5, 0)"
   ]
  },
  {
   "cell_type": "code",
   "execution_count": 18,
   "metadata": {},
   "outputs": [
    {
     "name": "stdout",
     "output_type": "stream",
     "text": [
      "Observation time.    Events captured.   Mean coalescence time\n",
      "                      beho      wiho        beho     wiho\n",
      "        0              99.5      99.6     18188.9  14213.0\n",
      "Observation time.    SNP heterozygosity.   Haplotype homozygosity at 27.0 kb locus\n",
      "                      beho       wiho           beho       wiho\n",
      "        0           4.00e-04   3.13e-04       3.99e-03   2.14e-01\n"
     ]
    }
   ],
   "source": [
    "my_pop(100000, 5568, 10, 0.5, 0)"
   ]
  },
  {
   "cell_type": "code",
   "execution_count": 19,
   "metadata": {},
   "outputs": [
    {
     "name": "stdout",
     "output_type": "stream",
     "text": [
      "Observation time.    Events captured.   Mean coalescence time\n",
      "                      beho      wiho        beho     wiho\n",
      "        0              99.5      99.6     18187.4  16687.4\n",
      "Observation time.    SNP heterozygosity.   Haplotype homozygosity at 27.0 kb locus\n",
      "                      beho       wiho           beho       wiho\n",
      "        0           4.00e-04   3.67e-04       4.05e-03   8.44e-02\n"
     ]
    }
   ],
   "source": [
    "my_pop(100000, 3269, 10, 1, 0)"
   ]
  }
 ],
 "metadata": {
  "kernelspec": {
   "display_name": "Python 3 (ipykernel)",
   "language": "python",
   "name": "python3"
  },
  "language_info": {
   "codemirror_mode": {
    "name": "ipython",
    "version": 3
   },
   "file_extension": ".py",
   "mimetype": "text/x-python",
   "name": "python",
   "nbconvert_exporter": "python",
   "pygments_lexer": "ipython3",
   "version": "3.9.13"
  }
 },
 "nbformat": 4,
 "nbformat_minor": 2
}
