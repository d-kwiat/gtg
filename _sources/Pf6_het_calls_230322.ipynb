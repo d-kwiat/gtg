{
 "cells": [
  {
   "cell_type": "markdown",
   "id": "d11209a3",
   "metadata": {},
   "source": [
    "## Pf6 heterozygous calls\n",
    "\n",
    "My Drive/GitHub/gtg/Pf6_het_calls_230322.ipynb\n",
    "\n",
    "This code examines the frequency distribution of heterozgous genotype calls in the [Pf6 dataset](https://www.malariagen.net/sites/default/files/File8_Pf_6_README_20191010_0.txt).  It uses downloaded Zarr data and sample metadata that are stored locally on ThinkPad_2022 in 'C:\\\\Users\\\\dkwia\\\\Data\\\\Pf6\\\\'. \n",
    "\n",
    "* extract lists of samples (n = 7,113) and variant properties (n = 6,051,696) as arrays\n",
    "\n",
    "* select variants that are high-quality biallelic coding SNPs (n = 502,221)\n",
    "\n",
    "* extract allele depth for high-quality SNPs from Zarr into `allele_depth_1.npy`.  We do this in chunks of 10,000 variants at a time to avoid memory problems\n",
    "\n",
    "* extract sample metadata from samples.txt into a dataframe\n",
    "\n",
    "* read info about sample QC into an array\n",
    "\n",
    "* extract allele depth for high-quality SNPs and high-quality samples (n = 5,970) into `allele_depth_2.npy` \n",
    "\n",
    "* calculate within-host heterozygosity for each SNP in each sample and save to `wiho_het.npy`\n",
    "\n",
    "* calculate mean within-host heterozygosity for each SNP across all samples and save to a list called wiho_het_per_snp\n",
    "\n",
    "* using wiho_het_per_snp, create `snp_filter` to filter out potential hyperhet SNPs\n",
    "\n",
    "* create `sample_filter` to select samples from a particular geographical region\n",
    "\n",
    "* calculate $\\pi_W$ for each sample, using mean within-host heterozygosity per sample, and allowing for the number of SNPs ascertained and the size of coding regions\n",
    "\n",
    "* plot a histogram of nucleotide diversity per sample\n",
    "\n",
    "* view the histogram for different filter cutoffs for hyperhet SNPs and for different regions e.g. West Africa vs Southeast Asia"
   ]
  },
  {
   "cell_type": "code",
   "execution_count": 1,
   "id": "41808b5a",
   "metadata": {},
   "outputs": [],
   "source": [
    "import zarr\n",
    "import numpy as np\n",
    "import pandas as pd\n",
    "import json\n",
    "import math\n",
    "import time\n",
    "import matplotlib.pyplot as plt\n",
    "import statistics as stat"
   ]
  },
  {
   "cell_type": "code",
   "execution_count": 2,
   "id": "f9407dc5",
   "metadata": {},
   "outputs": [
    {
     "data": {
      "application/vnd.jupyter.widget-view+json": {
       "model_id": "67c815d7ed9749eaaaa5168af5a45e4c",
       "version_major": 2,
       "version_minor": 0
      },
      "text/plain": [
       "Tree(nodes=(Node(disabled=True, name='/', nodes=(Node(disabled=True, name='calldata', nodes=(Node(disabled=Tru…"
      ]
     },
     "metadata": {},
     "output_type": "display_data"
    }
   ],
   "source": [
    "data_path = 'C:\\\\Users\\\\dkwia\\\\Data\\\\Pf6\\\\'\n",
    "\n",
    "callset = zarr.open_group(data_path + 'Pf_6.zarr', mode = 'r')\n",
    "callset.tree()"
   ]
  },
  {
   "cell_type": "markdown",
   "id": "793015b7",
   "metadata": {},
   "source": [
    "# Run\n",
    "\n",
    "#### Extract lists of samples and variant properties as arrays\n",
    "* 7,113 samples \n",
    "* 6,051,696 variants\n",
    "\n",
    "#### Select high-quality biallelic coding SNPs\n",
    "* high quality means 'filter_pass == True' & 'vqslod > 3'\n",
    "* 502,221 variants meet criteria\n",
    "* `select` is a mask for an array of 6,051,696 variants"
   ]
  },
  {
   "cell_type": "code",
   "execution_count": 3,
   "id": "d5f69692",
   "metadata": {},
   "outputs": [
    {
     "name": "stdout",
     "output_type": "stream",
     "text": [
      "There are 6051696 variants and 502221 selected SNPs in 7113 samples.\n"
     ]
    }
   ],
   "source": [
    "samples = callset['samples'][:]\n",
    "\n",
    "filter_pass = callset['variants/FILTER_PASS'][:]\n",
    "vqslod = callset['variants/VQSLOD'][:]\n",
    "snp = callset['variants/is_snp'][:]\n",
    "coding = callset['variants/CDS'][:]\n",
    "numalt = callset['variants/numalt'][:]\n",
    "effect = callset['variants/SNPEFF_EFFECT'][:]\n",
    "\n",
    "# select biallelic synonymous coding SNPs and create a mask\n",
    "select = (filter_pass == True) & (snp == True) & (numalt == 1) & (coding == True) & (vqslod > 3)\n",
    "\n",
    "# & (effect == 'SYNONYMOUS_CODING') \n",
    "\n",
    "selected_snps = np.count_nonzero(select == True)\n",
    "\n",
    "total_variants = len(snp)\n",
    "total_samples = len(samples)\n",
    "\n",
    "print('There are {0:d} variants and {1:d} selected SNPs in {2:d} samples.'.\n",
    "      format(total_variants, selected_snps, total_samples))"
   ]
  },
  {
   "cell_type": "markdown",
   "id": "f0861eea",
   "metadata": {},
   "source": [
    "#### Save allele depths for selected SNPs in `allele_depth_1.npy`\n",
    "* Use the `select` mask created above to pull out selected SNPs\n",
    "* Copy allele depths for selected SNPs from 'calldata/AD' into `allele_depth_1`\n",
    "  * calldata/AD allows for multiallelic loci by containing allele depth for up to 7 variant alleles\n",
    "  * Since we focus on biallelic SNPs we include only the first two alleles from calldata/AD\n",
    "* This file is 14GB"
   ]
  },
  {
   "cell_type": "code",
   "execution_count": null,
   "id": "825623b0",
   "metadata": {},
   "outputs": [],
   "source": [
    "# We extract allele depth data for selected SNPs into a numpy array.\n",
    "# We do this in chunks of 10000 variants at a time to avoid memory problems.\n",
    "# This step can be omitted by retrieving saved data in the next section.\n",
    "\n",
    "ad = callset['calldata/AD']\n",
    "\n",
    "allele_depth_1 = 9 * np.ones((selected_snps, total_samples, 2), dtype=np.int16)\n",
    "\n",
    "selected_snp_id = 0\n",
    "\n",
    "chunk_size = 10000\n",
    "\n",
    "for i in range(int(total_variants / chunk_size)):\n",
    "    \n",
    "    start_time = time.time()\n",
    "    \n",
    "    chunk = ad[(i * chunk_size) : ((i + 1) * chunk_size), :, :2]\n",
    "    \n",
    "    chunk_snps = 0\n",
    "\n",
    "    for j in range(chunk_size):\n",
    "        \n",
    "        variant_id = i * chunk_size + j\n",
    "    \n",
    "        if select[variant_id] == True:\n",
    "            \n",
    "            allele_depth_1[selected_snp_id, :, :] = chunk[j, :, :]\n",
    "            \n",
    "            selected_snp_id += 1\n",
    "            \n",
    "            chunk_snps += 1\n",
    "               \n",
    "    chunk_time = time.time() - start_time\n",
    "        \n",
    "    print('chunk {0:d} had {1:d} SNPs and took {2:.2f} seconds'.\n",
    "          format(i, chunk_snps, chunk_time))\n",
    "\n",
    "start_time = time.time()\n",
    "\n",
    "chunk = ad[(i * chunk_size) :, :, :]\n",
    "\n",
    "chunk_snps = 0\n",
    "\n",
    "for j in range(total_variants % chunk_size):\n",
    "    \n",
    "    if select[(i + 1) * chunk_size + j] == True:\n",
    "            \n",
    "        allele_depth_1[selected_snp_id, :, :] = chunk[j, :, :]\n",
    "        \n",
    "        selected_snp_id += 1\n",
    "            \n",
    "        chunk_snps += 1\n",
    "               \n",
    "    chunk_time = time.time() - start_time\n",
    "        \n",
    "print('chunk {0:d} had {1:d} SNPs and took {2:.1f} seconds'.\n",
    "     format(i, chunk_snps, chunk_time))\n",
    "\n",
    "total_snps = selected_snp_id\n",
    "\n",
    "print('total of {0:d} selected snps'.format(total_snps))\n",
    "\n",
    "np.save(data_path + '221221_selected_gt_1', allele_depth_1)"
   ]
  },
  {
   "cell_type": "markdown",
   "id": "9ebe25eb",
   "metadata": {},
   "source": [
    "# Run\n",
    "\n",
    "#### Select samples and list region of each selected sample\n",
    "* 'Population' in Pf6_samples.txt gives: 'SAM'=South America, 'WAF'=West Africa, 'CAF'=Central Africa, 'EAF'=East African, 'SAS'=South Asia, 'WSEA'=Western SE Asia, 'ESEA'=Eastern SE Asia, 'OCE'=Oceania"
   ]
  },
  {
   "cell_type": "code",
   "execution_count": 10,
   "id": "de6401ac",
   "metadata": {},
   "outputs": [
    {
     "name": "stdout",
     "output_type": "stream",
     "text": [
      "There are 5970 selected samples that passed QC\n"
     ]
    }
   ],
   "source": [
    "df = pd.read_table(data_path + 'samples.txt')\n",
    "\n",
    "select_sample = np.array(df['QC pass'])\n",
    "\n",
    "selected_samples = np.count_nonzero(select_sample == True)\n",
    "\n",
    "print('There are', str(selected_samples), 'selected samples that passed QC')\n",
    "\n",
    "region = []\n",
    "\n",
    "for i in range(total_samples):\n",
    "    \n",
    "    if select_sample[i] == True:\n",
    "        \n",
    "        region.append(df['Population'][i])\n",
    "        \n",
    "with open(data_path + \"230316_region\", \"w\") as fp:\n",
    "    json.dump(region, fp)"
   ]
  },
  {
   "cell_type": "markdown",
   "id": "7ec9f413",
   "metadata": {},
   "source": [
    "#### Copy allele depth for QC pass samples from `allele_depth_1` into `allele_depth_2`\n",
    "* 'QC pass' field in samples.txt gives True/False\n",
    "* Save as .npy file (~11.7GB) so that this step only has to be run once"
   ]
  },
  {
   "cell_type": "code",
   "execution_count": 35,
   "id": "f9faa03c",
   "metadata": {},
   "outputs": [
    {
     "name": "stdout",
     "output_type": "stream",
     "text": [
      "There are 5970 selected samples that passed QC\n"
     ]
    }
   ],
   "source": [
    "allele_depth_1 = np.load(data_path + '221221_selected_gt_1.npy')\n",
    "\n",
    "allele_depth_2 = 9 * np.ones((selected_snps, selected_samples, 2), dtype=np.int16)\n",
    "\n",
    "for i in range(total_samples):\n",
    "    \n",
    "    if select_sample[i] == True:\n",
    "        \n",
    "        allele_depth_2[:, selected_sample_id, :] = allele_depth_1[:, i, :]\n",
    "        \n",
    "np.save(data_path + '221221_selected_gt_2', allele_depth_2)"
   ]
  },
  {
   "cell_type": "markdown",
   "id": "63078c55",
   "metadata": {},
   "source": [
    "#### Calculate within-host heterozygosity for each SNP and save as `wiho_het.npy`\n",
    "* if ref_allele + alt_allele == 1 then write het = 0.\n",
    "* this file is 23.5GB because dtype=float"
   ]
  },
  {
   "cell_type": "code",
   "execution_count": 3,
   "id": "e32dd878",
   "metadata": {},
   "outputs": [
    {
     "name": "stdout",
     "output_type": "stream",
     "text": [
      "5970\n",
      "502221\n"
     ]
    }
   ],
   "source": [
    "allele_depth_2 = np.load(data_path + '221221_selected_gt_2.npy') #, mmap_mode = 'r')\n",
    "\n",
    "selected_samples = len(allele_depth_2[0, :, 0])\n",
    "\n",
    "selected_snps = len(allele_depth_2[: , 0, 0])\n",
    "\n",
    "print(selected_samples)\n",
    "print(selected_snps)"
   ]
  },
  {
   "cell_type": "code",
   "execution_count": 4,
   "id": "f77cd371",
   "metadata": {},
   "outputs": [
    {
     "data": {
      "image/png": "[encoded data removed]",
      "text/plain": [
       "<Figure size 640x480 with 1 Axes>"
      ]
     },
     "metadata": {},
     "output_type": "display_data"
    }
   ],
   "source": [
    "# All regions - only SNPs with het < 0.02\n",
    "\n",
    "with open(data_path + \"230317_het_per_sample_ALL\", \"r\") as filepath:\n",
    "    het_per_sample = json.load(filepath)\n",
    "    \n",
    "het_per_sample_nonzero = [x for x in het_per_sample]\n",
    "log_het_per_sample = [math.log(x, 10) for x in het_per_sample_nonzero]\n",
    "plt.hist(log_het_per_sample, bins = 100)\n",
    "plt.xlabel('Het per sample')\n",
    "plt.ylabel('Number of samples')\n",
    "plt.grid()\n",
    "plt.show()"
   ]
  },
  {
   "cell_type": "code",
   "execution_count": 5,
   "id": "ff5a343e",
   "metadata": {},
   "outputs": [],
   "source": [
    "wiho_het = np.load(data_path + '230318_wiho_het.npy', mmap_mode = 'r')\n",
    "snp_count = wiho_het.shape[0]\n",
    "sample_count = wiho_het.shape[1]\n",
    "\n",
    "sample_het = np.array(het_per_sample)\n",
    "\n",
    "lo_het = sample_het < 3e-5\n",
    "hi_het = sample_het > 3e-4\n",
    "med_het = (sample_het >= 3e-5) & (sample_het <= 3e-4)"
   ]
  },
  {
   "cell_type": "code",
   "execution_count": 50,
   "id": "06141196",
   "metadata": {},
   "outputs": [
    {
     "name": "stdout",
     "output_type": "stream",
     "text": [
      "[0.29411766, 0.083333336, 0.055555556, 0.055555556, 0.05, 0.09090909, 0.05882353, 0.05263158, 0.4074074, 0.1923077, 0.125, 0.078947365, 0.125, 0.05, 0.071428575, 0.06451613, 0.05263158, 0.05882353, 0.051282052, 0.09090909, 0.05, 0.074074075, 0.055555556, 0.051282052, 0.083333336, 0.05882353, 0.06666667, 0.11764706, 0.071428575, 0.06451613, 0.0952381, 0.055555556, 0.05, 0.0625, 0.3243243, 0.14285715, 0.11764706, 0.14285715, 0.0625, 0.074074075, 0.07692308, 0.05882353, 0.05882353, 0.07692308, 0.08, 0.06451613, 0.06451613, 0.0625, 0.14285715, 0.06896552, 0.051282052, 0.10526316, 0.06666667, 0.05, 0.06896552, 0.07692308, 0.05263158, 0.05, 0.055555556]\n"
     ]
    }
   ],
   "source": [
    "i = 61\n",
    "\n",
    "maf = []\n",
    "\n",
    "if lo_het[i] == True:\n",
    "    \n",
    "    for j in range(snp_count):\n",
    "        \n",
    "        x = allele_depth_2[j, i, 0]\n",
    "            \n",
    "        y = allele_depth_2[j, i, 1]\n",
    "            \n",
    "        z = min(x, y)\n",
    "    \n",
    "        a = x + y\n",
    "    \n",
    "        if a != 0:\n",
    "        \n",
    "            b = z/a\n",
    "    \n",
    "            if b > 0.05:\n",
    "                \n",
    "                maf.append(b)\n",
    "        \n",
    "    mean_maf = stat.mean(maf)\n",
    "    print(maf)\n",
    "\n",
    "else:\n",
    "    \n",
    "    print(\"Not low het sample\")"
   ]
  },
  {
   "cell_type": "code",
   "execution_count": 43,
   "id": "99e152d1",
   "metadata": {},
   "outputs": [
    {
     "name": "stdout",
     "output_type": "stream",
     "text": [
      "[1, 2, 11, 1, 4, 7, 12, 2, 3, 7, 9, 10, 1, 5, 5, 14, 13, 14, 9, 8, 11, 5, 8, 5, 7, 4, 10, 6, 11, 6, 7, 6, 8, 9, 10, 10, 12, 9, 10, 9, 8, 15, 13, 11, 13, 8, 10, 8, 8, 11, 6, 10, 6, 2, 8, 7, 10, 12, 10, 10, 9, 9, 13, 15, 10, 10, 5, 5, 1, 9, 12, 7, 9, 6, 13, 9, 6, 6, 7, 9, 11, 10, 3, 3, 3, 5, 5, 4, 3, 4, 3, 4, 1, 1, 1, 2, 1, 2, 4, 2, 3, 6, 7, 7, 5, 2, 3, 5, 4, 3, 5, 5, 4, 6, 3, 1, 6, 4, 1, 2, 5, 2, 1, 1, 4, 4, 5, 1, 3, 5, 1, 3, 2, 4, 3, 1, 1, 2, 2, 1, 3, 7, 6, 6, 4, 8, 9, 3, 4, 8, 5, 5, 2, 11, 5, 26, 1, 2, 2, 2, 2, 2, 2, 1, 4, 4, 4, 2, 6, 4, 7, 7, 5, 8, 7, 13, 1, 9, 6, 7, 6, 96, 123, 32, 32, 11, 5, 9, 9, 8, 11, 7, 5, 8, 8, 8, 10, 1, 1, 1, 12, 7, 10, 5, 1, 5, 4, 5, 5, 11, 5, 4, 12, 2, 10, 5, 5, 4, 1, 6, 9, 6, 5, 6, 4, 1, 1, 8, 1, 7, 5, 5, 9, 4, 8, 7, 10, 6, 12, 4, 11, 1, 7, 6, 2, 7, 1, 4, 4, 4, 5, 9, 9, 7, 11, 7, 6, 2, 1, 1, 1, 2, 2, 1, 1, 3, 1, 5, 3, 7, 5, 11, 7, 8, 3, 4, 7, 1, 3, 8, 5, 9, 5, 4, 2, 7, 1, 3, 1, 6, 3, 1, 4, 1, 6, 2, 2, 1, 3, 1, 4, 6, 2, 2, 2, 5, 5, 1, 2, 11, 14, 10, 7, 2, 3, 1, 3, 10, 1, 11, 4, 11, 8, 4, 1, 1, 10, 10, 24, 4, 14, 6, 6, 7, 7, 11, 12, 11, 6, 9, 9, 2, 8, 9, 7, 10, 9, 2, 1, 2, 2, 12, 7, 10, 5, 3, 5, 9, 8, 7, 12, 3, 7, 7, 8, 8, 18, 12, 10, 12, 15, 3, 1, 11, 11, 11, 10, 1, 8, 11, 8, 10, 1, 1, 13, 15, 7, 9, 11, 8, 1, 7, 7, 10, 9, 10, 9, 9, 9, 7, 6, 6, 6, 6, 6, 6, 8, 8, 8, 10, 9, 8, 8, 6, 5, 3, 4, 5, 5, 1, 1, 1, 6, 4, 8, 3, 3, 1, 3, 1, 6, 2, 2, 3, 1, 6, 9, 5, 4, 3, 4, 2, 5, 2, 1, 1, 7, 6, 6, 1, 1, 3, 3, 2, 4, 4, 5, 5, 5, 3, 4, 6, 1, 5, 3, 2, 1, 9, 4, 1, 1, 1, 5, 2, 3, 5, 2, 7, 8, 4, 8, 5, 4, 10, 5, 4, 5, 4, 2, 11, 8, 5, 6, 6, 3, 7, 9, 8, 3, 1, 6, 3, 6, 1, 6, 4, 6, 1, 3, 6, 7, 6, 3, 5, 1, 8, 10, 8, 5, 9, 7, 6, 3, 9, 1, 4, 2, 3, 3, 3, 4, 1, 2, 5, 2, 7, 2, 4, 5, 4, 3, 10, 4, 5, 4, 4, 9, 6, 6, 3, 9, 11, 7, 6, 7, 1, 9, 10, 4, 13, 4, 8, 6, 7, 1, 10, 11, 9, 12, 3, 8, 8, 3, 3, 7, 7, 12, 1, 5, 7, 7, 6, 7, 5, 7, 12, 4, 12, 7, 10, 3, 5, 4, 11, 7, 11, 6, 8, 8, 10, 7, 4, 7, 1, 6, 3, 3, 1, 6, 10, 1, 3, 4, 3, 2, 11, 6, 7, 11, 9, 8, 6, 6, 12, 11, 1, 1, 9, 1, 8, 8, 3, 7, 1, 1, 5, 5, 1, 5, 5, 5, 5, 4, 16, 1, 4, 6, 4, 3, 3, 7, 2, 2, 3, 4, 3, 1, 1, 1, 1, 1, 1, 5, 2, 4, 1, 5, 5, 4, 1, 1, 4, 6, 3, 3, 6, 1, 5, 3, 3, 3, 3, 4, 4, 5, 5, 3, 2, 3, 4, 3, 4, 2, 4, 2, 2, 8, 9, 4, 1, 2, 3, 6, 1, 1, 1, 1, 3, 5, 5, 6, 6, 6, 10, 10, 9, 9, 6, 6, 6, 5, 5, 2, 2, 2, 2, 2, 3, 1, 1, 2, 2, 1, 2, 1, 6, 4, 3, 1, 1, 5, 4, 7, 6, 6, 1, 67, 18, 19, 5, 5, 3, 4, 4, 5, 6, 1, 1, 4, 4, 1, 1, 3, 3, 2, 2, 2, 1, 1, 4, 7, 1, 1, 2, 4, 8, 8, 8, 12, 11, 4, 7, 4, 4, 2, 5, 13, 8, 4, 5, 5, 5, 5, 6, 10, 1, 11, 6, 1, 6, 9, 3, 3, 8, 5, 6, 4, 5, 8, 1, 3, 5, 4, 3, 5, 5, 6, 2, 6, 1, 3, 2, 2, 1, 1, 8, 14, 8, 5, 11, 9, 9, 7, 12, 8, 1, 2, 7, 8, 15, 8, 13, 8, 1, 3, 3, 1, 4, 3, 3, 1, 2, 3, 4, 1, 3, 4, 4, 3, 1, 5, 1, 1, 2, 3, 1, 2, 1, 2, 2, 4, 2, 1, 3, 5, 1, 4, 4, 3, 1, 1, 2, 3, 1, 1, 1, 3, 4, 4, 1, 5, 3, 3, 2, 1, 2, 2, 2, 1, 3, 3, 2, 2, 5, 1, 2, 3, 3, 1, 5, 2, 3, 4, 3, 5, 1, 2, 7, 3, 2, 1, 5, 2, 3, 1, 1, 3, 1, 5, 3, 4, 1, 5, 3, 3, 3, 3, 3, 3, 3, 3, 2, 1, 2, 1, 1, 3, 6, 1, 1, 1, 3, 6, 4, 5, 4, 5, 5, 3, 106, 112, 110, 124, 152, 145, 9, 9, 15, 11, 11, 12, 18, 14, 9, 9, 16, 7, 10, 2, 9, 16, 8, 6, 8, 11, 12, 9, 7, 11, 1, 13, 3, 7, 9, 10, 1, 10, 10, 8, 10, 8, 5, 9, 13, 4, 4, 8, 8, 12, 13, 12, 9, 9, 12, 3, 13, 9, 13, 8, 7, 6, 1, 1, 11, 7, 7, 1, 4, 13, 4, 5, 1, 4, 17, 6, 7, 4, 4, 9, 2, 11, 12, 6, 1, 1, 1, 1, 1, 1, 1, 1, 1, 1, 14, 14, 14, 13, 12, 14, 14, 10, 2, 6, 2, 9, 8, 10, 5, 8, 7, 10, 9, 6, 7, 9, 9, 9, 14, 11, 10, 10, 2, 6, 8, 9, 1, 16, 5, 13, 13, 9, 13, 16, 17, 16, 10, 6, 14, 12, 10, 9, 4, 7, 1, 12, 1, 10, 11, 5, 6, 5, 1, 4, 6, 2, 2, 1, 4, 8, 2, 5, 1, 1, 3, 3, 6, 1, 2, 5, 5, 2, 1, 5, 2, 5, 1, 3, 4, 2, 1, 4, 2, 15, 6, 9, 10, 9, 9, 7, 7, 9, 11, 7, 4, 1, 5, 11, 8, 6, 3, 1, 2, 2, 3, 7, 7, 7, 6, 6, 6, 6, 6, 7, 1, 4, 3, 2, 3, 2, 1, 9, 6, 3, 5, 5, 7, 5, 7, 4, 6, 3, 5, 5, 1, 1, 1, 2, 5, 3, 1, 3, 1, 1, 1, 2, 1, 3, 1, 1, 3, 6, 1, 2, 3, 6, 3, 1, 1, 1, 5, 3, 5, 3, 1, 5, 13, 1, 14, 10, 1, 1, 8, 9, 7, 1, 5, 4, 2, 5, 1, 1, 11, 5, 5, 8, 6, 4, 4, 12, 6, 5, 7, 2, 10, 11, 6, 13, 2, 1, 2, 6, 11, 4, 6, 1, 7, 1, 9, 8, 2, 5, 14, 5, 8, 2, 10, 9, 8, 1, 8, 12, 5, 8, 5, 14, 8, 12, 12, 2, 4, 11, 5, 9, 1, 1, 1, 1, 1, 1, 4, 9, 10, 5, 12, 6, 12, 8, 1, 3, 8, 9, 5, 4, 1, 1, 4, 4, 12, 11, 6, 6, 8, 9, 4, 4, 2, 6, 8, 5, 5, 7, 7, 7, 9, 10, 6, 5, 2, 11, 4, 1, 5, 6, 3, 6, 2, 3, 4, 6, 6, 11, 11, 13, 1, 2, 12, 6, 9, 5, 7, 11, 8, 6, 9, 8, 10, 8, 1, 8, 11, 8, 5, 1, 1, 1, 1, 2, 5, 3, 5, 1, 4, 1, 5, 4, 4, 4, 5, 6, 1, 1, 3, 6, 5, 3, 4, 4, 2, 2, 1, 2, 3, 2, 3, 1, 4, 5, 1, 2, 1, 1, 1, 5, 5, 1, 4, 2, 2, 2, 5, 2, 3, 9, 9, 7, 1, 7, 7, 8, 8, 10, 8, 6, 11, 8, 9, 2, 5, 8, 3, 3, 4, 4, 1, 1, 4, 6, 1, 1, 3, 4, 5, 4, 3, 1, 3, 7, 7, 3, 3, 2, 2, 6, 9, 2, 3, 2, 3, 1, 4, 2, 3, 1, 2, 1, 2, 4, 6, 2, 5, 4, 2, 3, 2, 5, 1, 5, 1, 4, 1, 1, 1, 2, 2, 1, 3, 2, 1, 4, 1, 3, 1, 1, 1, 4, 2, 3, 6, 3, 4, 3, 2, 2, 2, 8, 1, 3, 3, 5, 2, 2, 3, 1, 2, 1, 4, 2, 4, 5, 8, 6, 1, 2, 7, 2, 4, 5, 3, 5, 1, 4, 6, 3, 2, 4, 4, 6, 4, 3, 3, 5, 2, 7, 1, 5, 3, 1, 1, 1, 3, 1, 4, 2, 1, 3, 4, 4, 1, 6, 5, 2, 4, 5, 1, 7, 1, 2, 1, 4, 3, 3, 7, 1, 2, 4, 4, 1, 4, 3, 7, 3, 5, 3, 6, 2, 1, 4, 4, 3, 4, 4, 5, 4, 1, 4, 2, 5, 2, 6, 2, 1, 6, 4, 2, 1, 7, 4, 1, 4, 3, 7, 5, 5, 6, 2, 6, 4, 4, 4, 2, 1, 4, 1, 4, 2, 4, 9, 2, 6, 3, 5, 4, 2, 1, 1, 1, 3, 5, 3, 2, 8, 1, 4, 4, 4, 3, 1, 6, 2, 4, 3, 1, 3, 2, 3, 5, 2, 2, 3, 4, 2, 5, 1, 3, 2, 4, 4, 2, 3, 2, 2, 3, 1, 5, 4, 7, 4, 1, 3, 9, 8, 5, 1, 2, 1, 3, 3, 2, 6, 3, 2, 2, 5, 2, 2, 6, 3, 4, 4, 3, 2, 2, 5, 3, 7, 3, 2, 4, 1, 3, 2, 6, 4, 6, 1, 4, 4, 3, 1, 5, 5, 4, 7, 4, 5, 3, 10, 6, 3, 6, 4, 5, 7, 8, 12, 7, 1, 4, 8, 7, 10, 11, 1, 9, 6, 1, 11, 13, 5, 7, 15, 13, 6, 12, 7, 3, 7, 6, 15, 13, 12, 15, 6, 10, 12, 9, 5, 9, 8, 5, 7, 1, 7, 12, 10, 10, 8, 6, 18, 10, 5, 11, 7, 8, 12, 8, 9, 9, 7, 12, 9, 10, 7, 10, 8, 10, 5, 12, 4, 9, 1, 13, 11, 9, 7, 9, 6, 5, 2, 12, 4, 4, 5, 3, 4, 7, 2, 5, 3, 1, 1, 2, 2, 2, 5, 4, 7, 6, 1, 1, 1, 1, 3, 4, 3, 4, 4, 4, 4, 2, 1, 4, 1, 5]\n"
     ]
    }
   ],
   "source": [
    "count_minor_alleles = []\n",
    "\n",
    "i = 56\n",
    "\n",
    "for j in range(snp_count):\n",
    "        \n",
    "    x = allele_depth_2[j, i, 0]\n",
    "            \n",
    "    y = allele_depth_2[j, i, 1]\n",
    "            \n",
    "    z = min(x, y)\n",
    "        \n",
    "    if z != 0:\n",
    "                \n",
    "        count_minor_alleles.append(z)\n",
    "        \n",
    "mean_count_minor_alleles = stat.mean(count_minor_alleles)\n",
    "print(count_minor_alleles[:10000])"
   ]
  },
  {
   "cell_type": "code",
   "execution_count": 128,
   "id": "a3cb6923",
   "metadata": {},
   "outputs": [
    {
     "name": "stdout",
     "output_type": "stream",
     "text": [
      "[35, 80, 1, 1, 1, 1, 1, 1, 1, 1, 1, 2, 12, 2, 43, 58, 54, 53, 51, 45, 11, 11, 10, 15, 1, 1, 1, 3, 1, 1, 1, 1, 1, 1, 1, 15, 1, 1, 1, 1, 1, 1, 3, 1, 1, 1, 1, 1, 1, 1, 1, 1, 1, 1, 1, 1, 1, 1, 1, 1, 2, 1, 1, 1, 1, 4, 1, 3, 5, 1, 1, 1, 1, 2, 1, 1, 1, 1, 1, 1, 1, 1, 1, 2, 1, 1, 1, 1, 1, 1, 1, 1, 1, 2, 1, 3, 1, 1, 1, 1, 1, 1, 1, 1, 1, 1, 1, 1, 1, 1, 1, 1, 1, 1, 1, 1, 1, 1, 1, 1, 1, 1, 2, 1, 1, 1, 1, 2, 1, 1, 1, 1, 1, 1, 1, 2, 1, 1, 1, 1, 1, 1, 1, 1, 2, 1, 1, 1, 1, 1, 3, 1, 1, 1, 1, 1, 1, 1, 1, 1, 1, 1, 1, 1, 1, 1, 1, 1, 1, 1, 1, 1, 2, 1, 1, 1, 3, 1, 1, 1, 1, 1, 2, 25]\n"
     ]
    }
   ],
   "source": [
    "count_minor_alleles = []\n",
    "\n",
    "i = 91\n",
    "    \n",
    "if lo_het[i] == True:\n",
    "        \n",
    "    for j in range(snp_count):\n",
    "        \n",
    "        x = allele_depth_2[j, i, 0]\n",
    "            \n",
    "        y = allele_depth_2[j, i, 1]\n",
    "            \n",
    "        z = min(x, y)\n",
    "        \n",
    "        if z != 0:\n",
    "                \n",
    "            count_minor_alleles.append(z)\n",
    "        \n",
    "mean_count_minor_alleles = stat.mean(count_minor_alleles)\n",
    "print(count_minor_alleles[:10000])"
   ]
  },
  {
   "cell_type": "code",
   "execution_count": 38,
   "id": "d2ebbbab",
   "metadata": {},
   "outputs": [
    {
     "name": "stdout",
     "output_type": "stream",
     "text": [
      "1684\n",
      "[2242, 1090, 2469, 1339, 1077, 1046, 880, 7465, 922, 3861, 807, 1931, 2996, 648, 886, 1424, 1840, 542, 882, 1216, 2169, 941, 3283, 699, 296, 1936, 594]\n"
     ]
    }
   ],
   "source": [
    "sum_minor_alleles = []\n",
    "\n",
    "for i in range(50):\n",
    "    \n",
    "    minor_alleles = []\n",
    "\n",
    "    if lo_het[i] == True:\n",
    "        \n",
    "        for j in range(snp_count):\n",
    "        \n",
    "            x = allele_depth_2[j, i, 0]\n",
    "            \n",
    "            y = allele_depth_2[j, i, 1]\n",
    "            \n",
    "            z = min(x, y)\n",
    "        \n",
    "            if z != 0:\n",
    "                \n",
    "                minor_alleles.append(z)\n",
    "                \n",
    "        sum_minor_alleles.append(sum(minor_alleles))\n",
    "        \n",
    "mean_sum_minor_alleles = stat.mean(sum_minor_alleles)\n",
    "print(mean_sum_minor_alleles)\n",
    "print(sum_minor_alleles)"
   ]
  },
  {
   "cell_type": "code",
   "execution_count": 133,
   "id": "1caa79a4",
   "metadata": {},
   "outputs": [
    {
     "name": "stdout",
     "output_type": "stream",
     "text": [
      "1684\n",
      "[2242, 1090, 2469, 1339, 1077, 1046, 880, 7465, 922, 3861, 807, 1931, 2996, 648, 886, 1424, 1840, 542, 882, 1216, 2169, 941, 3283, 699, 296, 1936, 594]\n"
     ]
    }
   ],
   "source": [
    "sum_minor_alleles = []\n",
    "\n",
    "for i in range(50):\n",
    "    \n",
    "    minor_alleles = []\n",
    "\n",
    "    if lo_het[i] == True:\n",
    "        \n",
    "        for j in range(snp_count):\n",
    "        \n",
    "            x = allele_depth_2[j, i, 0]\n",
    "            \n",
    "            y = allele_depth_2[j, i, 1]\n",
    "            \n",
    "            z = min(x, y)\n",
    "        \n",
    "            if z != 0:\n",
    "                \n",
    "                minor_alleles.append(z)\n",
    "                \n",
    "        sum_minor_alleles.append(sum(minor_alleles))\n",
    "        \n",
    "mean_sum_minor_alleles = stat.mean(sum_minor_alleles)\n",
    "print(mean_sum_minor_alleles)\n",
    "print(sum_minor_alleles)"
   ]
  },
  {
   "cell_type": "code",
   "execution_count": 37,
   "id": "379cb177",
   "metadata": {},
   "outputs": [
    {
     "name": "stdout",
     "output_type": "stream",
     "text": [
      "412.42896174863387\n"
     ]
    }
   ],
   "source": [
    "count_variants = []\n",
    "\n",
    "for i in range(sample_count):\n",
    "    \n",
    "    if lo_het[i] == True:\n",
    "        \n",
    "        x = np.count_nonzero(wiho_het[: , i])\n",
    "        \n",
    "        count_variants.append(x)\n",
    "        \n",
    "mean_count_variants = stat.mean(count_variants)\n",
    "print(mean_count_variants)"
   ]
  },
  {
   "cell_type": "code",
   "execution_count": 9,
   "id": "37b5f6f1",
   "metadata": {},
   "outputs": [
    {
     "name": "stdout",
     "output_type": "stream",
     "text": [
      "412.42896174863387\n"
     ]
    }
   ],
   "source": [
    "count_variants = []\n",
    "\n",
    "for i in range(sample_count):\n",
    "    \n",
    "    if lo_het[i] == True:\n",
    "        \n",
    "        x = np.count_nonzero(wiho_het[: , i])\n",
    "        \n",
    "        count_variants.append(x)\n",
    "        \n",
    "mean_count_variants = stat.mean(count_variants)\n",
    "print(mean_count_variants)"
   ]
  },
  {
   "cell_type": "code",
   "execution_count": 20,
   "id": "0e88fff4",
   "metadata": {},
   "outputs": [
    {
     "data": {
      "image/png": "[encoded data removed]",
      "text/plain": [
       "<Figure size 640x480 with 1 Axes>"
      ]
     },
     "metadata": {},
     "output_type": "display_data"
    }
   ],
   "source": [
    "log_count_variants = [math.log(x, 10) for x in count_variants]\n",
    "plt.hist(log_count_variants, bins = 100)\n",
    "plt.xlabel('Number of variants')\n",
    "plt.ylabel('Number of samples')\n",
    "plt.grid()\n",
    "plt.show()"
   ]
  },
  {
   "cell_type": "code",
   "execution_count": 9,
   "id": "90263efb",
   "metadata": {},
   "outputs": [
    {
     "ename": "NameError",
     "evalue": "name 'stats' is not defined",
     "output_type": "error",
     "traceback": [
      "\u001b[1;31m---------------------------------------------------------------------------\u001b[0m",
      "\u001b[1;31mNameError\u001b[0m                                 Traceback (most recent call last)",
      "\u001b[1;32m~\\AppData\\Local\\Temp\\ipykernel_19320\\3670181261.py\u001b[0m in \u001b[0;36m<module>\u001b[1;34m\u001b[0m\n\u001b[0;32m      7\u001b[0m     \u001b[0mmean_allele_depth_sample\u001b[0m\u001b[1;33m.\u001b[0m\u001b[0mappend\u001b[0m\u001b[1;33m(\u001b[0m\u001b[0mmean_allele_depth\u001b[0m\u001b[1;33m)\u001b[0m\u001b[1;33m\u001b[0m\u001b[1;33m\u001b[0m\u001b[0m\n\u001b[0;32m      8\u001b[0m \u001b[1;33m\u001b[0m\u001b[0m\n\u001b[1;32m----> 9\u001b[1;33m \u001b[0mmean_allele_depth_all_samples\u001b[0m \u001b[1;33m=\u001b[0m \u001b[0mstats\u001b[0m\u001b[1;33m.\u001b[0m\u001b[0mmean\u001b[0m\u001b[1;33m(\u001b[0m\u001b[0mmean_allele_depth_sample\u001b[0m\u001b[1;33m)\u001b[0m\u001b[1;33m\u001b[0m\u001b[1;33m\u001b[0m\u001b[0m\n\u001b[0m\u001b[0;32m     10\u001b[0m \u001b[1;33m\u001b[0m\u001b[0m\n\u001b[0;32m     11\u001b[0m \u001b[0mprint\u001b[0m\u001b[1;33m(\u001b[0m\u001b[0mmean_allele_depth_all_samples\u001b[0m\u001b[1;33m)\u001b[0m\u001b[1;33m\u001b[0m\u001b[1;33m\u001b[0m\u001b[0m\n",
      "\u001b[1;31mNameError\u001b[0m: name 'stats' is not defined"
     ]
    }
   ],
   "source": [
    "mean_allele_depth_sample = []\n",
    "\n",
    "for i in range(selected_samples):\n",
    "    \n",
    "    mean_allele_depth = np.mean(allele_depth_2[:, i, 0]) + np.mean(allele_depth_2[:, i, 1])\n",
    "\n",
    "    mean_allele_depth_sample.append(mean_allele_depth)\n",
    "\n",
    "mean_allele_depth_all_samples = stat.mean(mean_allele_depth_sample)\n",
    "\n",
    "print(mean_allele_depth_all_samples)"
   ]
  },
  {
   "cell_type": "code",
   "execution_count": 11,
   "id": "d0412aaa",
   "metadata": {},
   "outputs": [
    {
     "name": "stdout",
     "output_type": "stream",
     "text": [
      "75.9820107314465\n"
     ]
    }
   ],
   "source": [
    "mean_allele_depth_all_samples = stat.mean(mean_allele_depth_sample)\n",
    "print(mean_allele_depth_all_samples)"
   ]
  },
  {
   "cell_type": "code",
   "execution_count": null,
   "id": "449190f8",
   "metadata": {},
   "outputs": [],
   "source": [
    "allele_depth_2 = np.load(data_path + '221221_selected_gt_2.npy') #, mmap_mode = 'r')\n",
    "\n",
    "selected_samples = len(allele_depth_2[0, :, 0])\n",
    "\n",
    "wiho_het = np.ones((selected_snps, selected_samples), dtype=float32)\n",
    "\n",
    "for i in range(selected_snps):\n",
    "    for j in range(selected_samples):\n",
    "        \n",
    "        ref_allele = allele_depth_2[i, j, 0]\n",
    "        alt_allele = allele_depth_2[i, j, 1]\n",
    "        denominator = ref_allele + alt_allele\n",
    "        if denominator != 0:\n",
    "            allele_freq = alt_allele / denominator\n",
    "            het = 2 * allele_freq * (1 - allele_freq)\n",
    "        else:\n",
    "            het = 0 # this is a hack\n",
    "            \n",
    "        wiho_het[i, j] = het\n",
    "\n",
    "    if i % 100 == 0:\n",
    "        print(i)\n",
    "        \n",
    "np.save(data_path + '230113_wiho_het.npy', wiho_het)"
   ]
  },
  {
   "cell_type": "markdown",
   "id": "6677095b",
   "metadata": {},
   "source": [
    "#### Calculate mean within-host heterozygosity for each SNP"
   ]
  },
  {
   "cell_type": "code",
   "execution_count": 7,
   "id": "f24e8087",
   "metadata": {
    "scrolled": true
   },
   "outputs": [],
   "source": [
    "wiho_het = np.load(data_path + '230113_wiho_het.npy', mmap_mode = 'r')\n",
    "\n",
    "het_per_snp = []\n",
    "\n",
    "for i in range(selected_snps):\n",
    "    \n",
    "    x = np.mean(wiho_het[i, :])\n",
    "    \n",
    "    het_per_snp.append(x)\n",
    "    \n",
    "with open(data_path + \"230317_het_per_snp\", \"w\") as filepath:\n",
    "    json.dump(het_per_snp, filepath)        "
   ]
  },
  {
   "cell_type": "markdown",
   "id": "e70ff510",
   "metadata": {},
   "source": [
    "# Run\n",
    "\n",
    "#### Create `snp_filter` to filter out possible hyperhets\n",
    "* Here we use het >= 0.02 as our criterion for exclusion "
   ]
  },
  {
   "cell_type": "code",
   "execution_count": 19,
   "id": "bf073adb",
   "metadata": {},
   "outputs": [
    {
     "name": "stdout",
     "output_type": "stream",
     "text": [
      "This includes 496459 SNPs\n"
     ]
    }
   ],
   "source": [
    "with open(data_path + \"230317_het_per_snp\", \"r\") as fp:\n",
    "    het_per_snp = json.load(fp)\n",
    "\n",
    "snp_filter = []\n",
    "\n",
    "for i in range(selected_snps):\n",
    "    \n",
    "    if het_per_snp[i] < 0.02:\n",
    "        \n",
    "        snp_filter.append(True)\n",
    "    \n",
    "    else:\n",
    "        snp_filter.append(False)\n",
    "        \n",
    "filtered_snps = snp_filter.count(True)\n",
    "        \n",
    "print('This includes', str(filtered_snps), 'SNPs')"
   ]
  },
  {
   "cell_type": "markdown",
   "id": "eebb3601",
   "metadata": {},
   "source": [
    "# Run\n",
    "\n",
    "#### Create `sample_filter` to select a particular geographical region\n",
    "* 'SAM'=South America, 'WAF'=West Africa, 'CAF'=Central Africa, 'EAF'=East African, 'SAS'=South Asia, 'WSEA'=Western SE Asia, 'ESEA'=Eastern SE Asia, 'OCE'=Oceania"
   ]
  },
  {
   "cell_type": "code",
   "execution_count": 20,
   "id": "053e4492",
   "metadata": {},
   "outputs": [
    {
     "name": "stdout",
     "output_type": "stream",
     "text": [
      "This includes 5970 samples\n"
     ]
    }
   ],
   "source": [
    "with open(data_path + \"230316_region\", \"r\") as fp:\n",
    "    region = json.load(fp)\n",
    "\n",
    "sample_filter = []\n",
    "\n",
    "for i in range(selected_samples):\n",
    "    \n",
    "    if region[i] != False:\n",
    "        \n",
    "        sample_filter.append(True)\n",
    "        \n",
    "    else:\n",
    "        \n",
    "        sample_filter.append(False)\n",
    "        \n",
    "filtered_samples = sample_filter.count(True)\n",
    "    \n",
    "print('This includes', str(filtered_samples), 'samples')"
   ]
  },
  {
   "cell_type": "markdown",
   "id": "906c4943",
   "metadata": {},
   "source": [
    "# Run\n",
    "\n",
    "#### Calculate mean heterozygosity per sample after filtering samples and SNPs\n",
    "* Creates a list of het values, one for each selected & filtered sample \n",
    "* This is the mean het for selected & filtered SNPs and not for all nucleotide positions"
   ]
  },
  {
   "cell_type": "code",
   "execution_count": 21,
   "id": "351f801e",
   "metadata": {},
   "outputs": [
    {
     "name": "stdout",
     "output_type": "stream",
     "text": [
      "0\n",
      "1000\n",
      "2000\n",
      "3000\n",
      "4000\n",
      "5000\n"
     ]
    }
   ],
   "source": [
    "wiho_het = np.load(data_path + '230113_wiho_het.npy', mmap_mode = 'r')\n",
    "\n",
    "het_per_sample = []\n",
    "\n",
    "for i in range(selected_samples):\n",
    "    \n",
    "    if sample_filter[i] == True:\n",
    "\n",
    "        het = []\n",
    "    \n",
    "        for j in range(selected_snps):\n",
    "    \n",
    "            if snp_filter[j] == True: \n",
    "            \n",
    "                het.append(wiho_het[j, i])\n",
    "    \n",
    "        y = stat.mean(het)\n",
    "    \n",
    "        het_per_sample.append(y)\n",
    "    \n",
    "    if i % 1000 == 0:\n",
    "        \n",
    "        print(i)\n",
    "        \n",
    "with open(data_path + \"230317_het_per_sample_ALL\", \"w\") as filepath:\n",
    "    json.dump(het_per_sample, filepath)"
   ]
  },
  {
   "cell_type": "markdown",
   "id": "f72882eb",
   "metadata": {},
   "source": [
    "#### Plot histogram of within-host nucleotide diversity"
   ]
  },
  {
   "cell_type": "code",
   "execution_count": 23,
   "id": "7126767e",
   "metadata": {},
   "outputs": [
    {
     "data": {
      "image/png": "[encoded data removed]",
      "text/plain": [
       "<Figure size 640x480 with 1 Axes>"
      ]
     },
     "metadata": {},
     "output_type": "display_data"
    }
   ],
   "source": [
    "# All regions - only SNPs with maf < 0.01\n",
    "\n",
    "with open(data_path + \"230317_het_per_sample_ALL\", \"r\") as filepath:\n",
    "    het_per_sample = json.load(filepath)\n",
    "    \n",
    "selected_snps = 494829 # this is <0.01 maf, total is 502221\n",
    "coding_positions = 12028350 # from Gardner et al 2002\n",
    "\n",
    "convert_het_to_pi = selected_snps / coding_positions\n",
    "\n",
    "het_per_sample_nonzero = [convert_het_to_pi * x for x in het_per_sample if x != 0]\n",
    "log_het_per_sample = [math.log(x, 10) for x in het_per_sample_nonzero]\n",
    "plt.hist(log_het_per_sample, bins = 100)\n",
    "plt.xlabel('Within-host nucleotide diversity \\u03C0')\n",
    "plt.ylabel('Number of samples')\n",
    "plt.grid()\n",
    "plt.show()\n"
   ]
  },
  {
   "cell_type": "code",
   "execution_count": 24,
   "id": "e43ac9dd",
   "metadata": {},
   "outputs": [
    {
     "data": {
      "image/png": "[encoded data removed]",
      "text/plain": [
       "<Figure size 640x480 with 1 Axes>"
      ]
     },
     "metadata": {},
     "output_type": "display_data"
    }
   ],
   "source": [
    "# Southeast Asia - only SNPs with maf < 0.01 \n",
    "\n",
    "with open(data_path + \"230316_het_per_sample_SEA\", \"r\") as filepath:\n",
    "    het_per_sample = json.load(filepath)\n",
    "    \n",
    "coding_positions = 12028350 # from Gardner et al 2002\n",
    "\n",
    "convert_het_to_pi = filtered_snps / coding_positions\n",
    "\n",
    "het_per_sample_nonzero = [convert_het_to_pi * x for x in het_per_sample if x != 0]\n",
    "log_het_per_sample = [math.log(x, 10) for x in het_per_sample_nonzero]\n",
    "plt.hist(log_het_per_sample, bins = 100)\n",
    "plt.xlabel('Within-host nucleotide diversity \\u03C0')\n",
    "plt.ylabel('Number of samples')\n",
    "plt.grid()\n",
    "plt.show()"
   ]
  },
  {
   "cell_type": "code",
   "execution_count": 110,
   "id": "6f2cd3ca",
   "metadata": {},
   "outputs": [
    {
     "data": {
      "image/png": "[encoded data removed]",
      "text/plain": [
       "<Figure size 640x480 with 1 Axes>"
      ]
     },
     "metadata": {},
     "output_type": "display_data"
    }
   ],
   "source": [
    "# Eastern Southeast Asia - only SNPs with maf < 0.01 \n",
    "\n",
    "with open(data_path + \"230316_het_per_sample_ESEA\", \"r\") as filepath:\n",
    "    het_per_sample = json.load(filepath)\n",
    "    \n",
    "coding_positions = 12028350 # from Gardner et al 2002\n",
    "\n",
    "convert_het_to_pi = filtered_snps / coding_positions\n",
    "\n",
    "het_per_sample_nonzero = [convert_het_to_pi * x for x in het_per_sample if x != 0]\n",
    "log_het_per_sample = [math.log(x, 10) for x in het_per_sample_nonzero]\n",
    "plt.hist(log_het_per_sample, bins = 100)\n",
    "plt.xlabel('Within-host nucleotide diversity \\u03C0')\n",
    "plt.ylabel('Number of samples')\n",
    "plt.grid()\n",
    "plt.show()"
   ]
  },
  {
   "cell_type": "code",
   "execution_count": 103,
   "id": "fbf7df0f",
   "metadata": {},
   "outputs": [
    {
     "data": {
      "image/png": "[encoded data removed]",
      "text/plain": [
       "<Figure size 640x480 with 1 Axes>"
      ]
     },
     "metadata": {},
     "output_type": "display_data"
    }
   ],
   "source": [
    "# West Africa - only SNPs with maf < 0.01 \n",
    "\n",
    "with open(data_path + \"230316_het_per_sample_WAF\", \"r\") as filepath:\n",
    "    het_per_sample = json.load(filepath)\n",
    "    \n",
    "coding_positions = 12028350 # from Gardner et al 2002\n",
    "\n",
    "convert_het_to_pi = filtered_snps / coding_positions\n",
    "\n",
    "het_per_sample_nonzero = [convert_het_to_pi * x for x in het_per_sample if x != 0]\n",
    "log_het_per_sample = [math.log(x, 10) for x in het_per_sample_nonzero]\n",
    "plt.hist(log_het_per_sample, bins = 100)\n",
    "plt.xlabel('Within-host nucleotide diversity \\u03C0')\n",
    "plt.ylabel('Number of samples')\n",
    "plt.grid()\n",
    "plt.show()"
   ]
  }
 ],
 "metadata": {
  "kernelspec": {
   "display_name": "Python 3 (ipykernel)",
   "language": "python",
   "name": "python3"
  },
  "language_info": {
   "codemirror_mode": {
    "name": "ipython",
    "version": 3
   },
   "file_extension": ".py",
   "mimetype": "text/x-python",
   "name": "python",
   "nbconvert_exporter": "python",
   "pygments_lexer": "ipython3",
   "version": "3.9.13"
  }
 },
 "nbformat": 4,
 "nbformat_minor": 5
}
